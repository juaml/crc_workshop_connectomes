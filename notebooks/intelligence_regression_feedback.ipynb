{
 "cells": [
  {
   "cell_type": "markdown",
   "id": "0853fa4e",
   "metadata": {
    "slideshow": {
     "slide_type": "slide"
    }
   },
   "source": [
    "# CRC Workshop: Machine Learning with Functional Connectivity (FC) Data"
   ]
  },
  {
   "cell_type": "markdown",
   "id": "6c88f24f",
   "metadata": {
    "slideshow": {
     "slide_type": "slide"
    }
   },
   "source": [
    "## Getting the data:\n",
    "\n",
    "Go to: https://github.com/juaml/crc_workshop_connectomes\n",
    "\n",
    "and follow the instructions in the README to get the data. Then go to the notebooks folder to open a new\n",
    "notebook."
   ]
  },
  {
   "cell_type": "markdown",
   "id": "afdac596",
   "metadata": {
    "slideshow": {
     "slide_type": "slide"
    }
   },
   "source": [
    "## The AOMIC Data\n",
    "\n",
    "First, let's load the data and inspect it a bit. The [AOMIC dataset](https://nilab-uva.github.io/AOMIC.github.io/) is a collection of data obtained in three different studies (**PIOP1**, **PIOP2**, **ID1000**). Here, we will be only concerned with the data from the **ID1000** study, which aimed to collect 1000 fMRI scans during movie-watching. The next cell defines the path to all the **ID1000** specific data, and also adds the names of the two files we will be interested in. One of these files contains the preprocessed **functional connectivity (FC)** data, whereas the other file contains the important **demographic** information. Let's start by also loading the dependencies:"
   ]
  },
  {
   "cell_type": "code",
   "execution_count": 1,
   "id": "cbd1570b",
   "metadata": {
    "slideshow": {
     "slide_type": "slide"
    }
   },
   "outputs": [],
   "source": [
    "# Import libraries\n",
    "import pandas as pd\n",
    "from pathlib import Path"
   ]
  },
  {
   "cell_type": "code",
   "execution_count": 2,
   "id": "0e368676",
   "metadata": {
    "slideshow": {
     "slide_type": "slide"
    }
   },
   "outputs": [],
   "source": [
    "# Path to ID1000 data within the AOMIC datalad dataset\n",
    "ID1000_path = Path(\"..\") / \"aomic-fc\"/ \"junifer_storage\" / \"JUNIFER_AOMIC_TSV_CONNECTOMES\" / \"ID1000\"\n",
    "\n",
    "# Path to the demographics data file\n",
    "demographics_path = ID1000_path / \"ID1000_participants.tsv\"\n",
    "\n",
    "# Path to the connectomes data file\n",
    "# The name of this file is a bit of a mouthful but contains important\n",
    "# information\n",
    "connectomes_path = ID1000_path / (\n",
    "    \"ID1000_BOLD_parccortical-Schaefer100x17FSLMNI_\"\n",
    "    \"parcsubcortical-TianxS2x3TxMNInonlinear2009cAsym_\"\n",
    "    \"marker-empiricalFC_moviewatching.tsv.gz\"\n",
    ")"
   ]
  },
  {
   "cell_type": "markdown",
   "id": "e8dd60e7",
   "metadata": {
    "slideshow": {
     "slide_type": "slide"
    }
   },
   "source": [
    "### Demographic Data\n",
    "\n",
    "Now that we have defined these paths let's load each file and look at them one by one. Let's start with the demographics. We will load it using pandas, and as you might see from the file extension, these are both **tsv** files and we will therefore load them using a tab as a delimiter. In addition, we will load the first column as the index of the dataframe as it happens to contain the subject ID's."
   ]
  },
  {
   "cell_type": "code",
   "execution_count": 3,
   "id": "4f086b87",
   "metadata": {
    "slideshow": {
     "slide_type": "slide"
    }
   },
   "outputs": [
    {
     "name": "stdout",
     "output_type": "stream",
     "text": [
      "Rows (subjects) x Columns (features)\n",
      "(928, 30)\n"
     ]
    },
    {
     "data": {
      "text/html": [
       "<div>\n",
       "<style scoped>\n",
       "    .dataframe tbody tr th:only-of-type {\n",
       "        vertical-align: middle;\n",
       "    }\n",
       "\n",
       "    .dataframe tbody tr th {\n",
       "        vertical-align: top;\n",
       "    }\n",
       "\n",
       "    .dataframe thead th {\n",
       "        text-align: right;\n",
       "    }\n",
       "</style>\n",
       "<table border=\"1\" class=\"dataframe\">\n",
       "  <thead>\n",
       "    <tr style=\"text-align: right;\">\n",
       "      <th></th>\n",
       "      <th>age</th>\n",
       "      <th>sex</th>\n",
       "      <th>handedness</th>\n",
       "      <th>BMI</th>\n",
       "      <th>education_level</th>\n",
       "      <th>background_SES</th>\n",
       "      <th>IST_fluid</th>\n",
       "      <th>IST_memory</th>\n",
       "      <th>IST_crystallised</th>\n",
       "      <th>IST_intelligence_total</th>\n",
       "      <th>...</th>\n",
       "      <th>sexual_attraction_M</th>\n",
       "      <th>sexual_attraction_F</th>\n",
       "      <th>gender_identity_M</th>\n",
       "      <th>gender_identity_F</th>\n",
       "      <th>religious_upbringing</th>\n",
       "      <th>religious_now</th>\n",
       "      <th>religious_importance</th>\n",
       "      <th>DWI_TR_run1</th>\n",
       "      <th>DWI_TR_run2</th>\n",
       "      <th>DWI_TR_run3</th>\n",
       "    </tr>\n",
       "    <tr>\n",
       "      <th>participant_id</th>\n",
       "      <th></th>\n",
       "      <th></th>\n",
       "      <th></th>\n",
       "      <th></th>\n",
       "      <th></th>\n",
       "      <th></th>\n",
       "      <th></th>\n",
       "      <th></th>\n",
       "      <th></th>\n",
       "      <th></th>\n",
       "      <th></th>\n",
       "      <th></th>\n",
       "      <th></th>\n",
       "      <th></th>\n",
       "      <th></th>\n",
       "      <th></th>\n",
       "      <th></th>\n",
       "      <th></th>\n",
       "      <th></th>\n",
       "      <th></th>\n",
       "      <th></th>\n",
       "    </tr>\n",
       "  </thead>\n",
       "  <tbody>\n",
       "    <tr>\n",
       "      <th>sub-0001</th>\n",
       "      <td>22.00</td>\n",
       "      <td>female</td>\n",
       "      <td>right</td>\n",
       "      <td>23</td>\n",
       "      <td>medium</td>\n",
       "      <td>2.0</td>\n",
       "      <td>77.0</td>\n",
       "      <td>49.0</td>\n",
       "      <td>33.0</td>\n",
       "      <td>159.0</td>\n",
       "      <td>...</td>\n",
       "      <td>7.0</td>\n",
       "      <td>1.0</td>\n",
       "      <td>1.0</td>\n",
       "      <td>7.0</td>\n",
       "      <td>no</td>\n",
       "      <td>yes</td>\n",
       "      <td>2.0</td>\n",
       "      <td>6.312</td>\n",
       "      <td>6.312</td>\n",
       "      <td>6.312</td>\n",
       "    </tr>\n",
       "    <tr>\n",
       "      <th>sub-0002</th>\n",
       "      <td>21.75</td>\n",
       "      <td>female</td>\n",
       "      <td>right</td>\n",
       "      <td>20</td>\n",
       "      <td>medium</td>\n",
       "      <td>5.5</td>\n",
       "      <td>97.0</td>\n",
       "      <td>63.0</td>\n",
       "      <td>39.0</td>\n",
       "      <td>199.0</td>\n",
       "      <td>...</td>\n",
       "      <td>7.0</td>\n",
       "      <td>1.0</td>\n",
       "      <td>2.0</td>\n",
       "      <td>7.0</td>\n",
       "      <td>no</td>\n",
       "      <td>no</td>\n",
       "      <td>NaN</td>\n",
       "      <td>NaN</td>\n",
       "      <td>6.311</td>\n",
       "      <td>6.311</td>\n",
       "    </tr>\n",
       "    <tr>\n",
       "      <th>sub-0003</th>\n",
       "      <td>25.25</td>\n",
       "      <td>female</td>\n",
       "      <td>right</td>\n",
       "      <td>31</td>\n",
       "      <td>high</td>\n",
       "      <td>3.0</td>\n",
       "      <td>122.0</td>\n",
       "      <td>67.0</td>\n",
       "      <td>38.0</td>\n",
       "      <td>227.0</td>\n",
       "      <td>...</td>\n",
       "      <td>6.0</td>\n",
       "      <td>3.0</td>\n",
       "      <td>1.0</td>\n",
       "      <td>6.0</td>\n",
       "      <td>no</td>\n",
       "      <td>no</td>\n",
       "      <td>NaN</td>\n",
       "      <td>6.312</td>\n",
       "      <td>6.312</td>\n",
       "      <td>6.312</td>\n",
       "    </tr>\n",
       "    <tr>\n",
       "      <th>sub-0004</th>\n",
       "      <td>22.50</td>\n",
       "      <td>female</td>\n",
       "      <td>right</td>\n",
       "      <td>20</td>\n",
       "      <td>high</td>\n",
       "      <td>5.0</td>\n",
       "      <td>149.0</td>\n",
       "      <td>69.0</td>\n",
       "      <td>52.0</td>\n",
       "      <td>270.0</td>\n",
       "      <td>...</td>\n",
       "      <td>6.0</td>\n",
       "      <td>2.0</td>\n",
       "      <td>1.0</td>\n",
       "      <td>7.0</td>\n",
       "      <td>yes</td>\n",
       "      <td>no</td>\n",
       "      <td>NaN</td>\n",
       "      <td>6.311</td>\n",
       "      <td>6.311</td>\n",
       "      <td>6.311</td>\n",
       "    </tr>\n",
       "    <tr>\n",
       "      <th>sub-0005</th>\n",
       "      <td>22.25</td>\n",
       "      <td>male</td>\n",
       "      <td>right</td>\n",
       "      <td>23</td>\n",
       "      <td>high</td>\n",
       "      <td>4.5</td>\n",
       "      <td>112.0</td>\n",
       "      <td>57.0</td>\n",
       "      <td>43.0</td>\n",
       "      <td>212.0</td>\n",
       "      <td>...</td>\n",
       "      <td>1.0</td>\n",
       "      <td>7.0</td>\n",
       "      <td>6.0</td>\n",
       "      <td>1.0</td>\n",
       "      <td>no</td>\n",
       "      <td>no</td>\n",
       "      <td>NaN</td>\n",
       "      <td>6.311</td>\n",
       "      <td>6.311</td>\n",
       "      <td>6.311</td>\n",
       "    </tr>\n",
       "  </tbody>\n",
       "</table>\n",
       "<p>5 rows × 30 columns</p>\n",
       "</div>"
      ],
      "text/plain": [
       "                  age     sex handedness  BMI education_level  background_SES  \\\n",
       "participant_id                                                                  \n",
       "sub-0001        22.00  female      right   23          medium             2.0   \n",
       "sub-0002        21.75  female      right   20          medium             5.5   \n",
       "sub-0003        25.25  female      right   31            high             3.0   \n",
       "sub-0004        22.50  female      right   20            high             5.0   \n",
       "sub-0005        22.25    male      right   23            high             4.5   \n",
       "\n",
       "                IST_fluid  IST_memory  IST_crystallised  \\\n",
       "participant_id                                            \n",
       "sub-0001             77.0        49.0              33.0   \n",
       "sub-0002             97.0        63.0              39.0   \n",
       "sub-0003            122.0        67.0              38.0   \n",
       "sub-0004            149.0        69.0              52.0   \n",
       "sub-0005            112.0        57.0              43.0   \n",
       "\n",
       "                IST_intelligence_total  ...  sexual_attraction_M  \\\n",
       "participant_id                          ...                        \n",
       "sub-0001                         159.0  ...                  7.0   \n",
       "sub-0002                         199.0  ...                  7.0   \n",
       "sub-0003                         227.0  ...                  6.0   \n",
       "sub-0004                         270.0  ...                  6.0   \n",
       "sub-0005                         212.0  ...                  1.0   \n",
       "\n",
       "                sexual_attraction_F  gender_identity_M  gender_identity_F  \\\n",
       "participant_id                                                              \n",
       "sub-0001                        1.0                1.0                7.0   \n",
       "sub-0002                        1.0                2.0                7.0   \n",
       "sub-0003                        3.0                1.0                6.0   \n",
       "sub-0004                        2.0                1.0                7.0   \n",
       "sub-0005                        7.0                6.0                1.0   \n",
       "\n",
       "                religious_upbringing  religious_now  religious_importance  \\\n",
       "participant_id                                                              \n",
       "sub-0001                          no            yes                   2.0   \n",
       "sub-0002                          no             no                   NaN   \n",
       "sub-0003                          no             no                   NaN   \n",
       "sub-0004                         yes             no                   NaN   \n",
       "sub-0005                          no             no                   NaN   \n",
       "\n",
       "                DWI_TR_run1  DWI_TR_run2  DWI_TR_run3  \n",
       "participant_id                                         \n",
       "sub-0001              6.312        6.312        6.312  \n",
       "sub-0002                NaN        6.311        6.311  \n",
       "sub-0003              6.312        6.312        6.312  \n",
       "sub-0004              6.311        6.311        6.311  \n",
       "sub-0005              6.311        6.311        6.311  \n",
       "\n",
       "[5 rows x 30 columns]"
      ]
     },
     "execution_count": 3,
     "metadata": {},
     "output_type": "execute_result"
    }
   ],
   "source": [
    "demographics = pd.read_csv(demographics_path, sep=\"\\t\", index_col=0)\n",
    "print(\"Rows (subjects) x Columns (features)\")\n",
    "print(demographics.shape)\n",
    "demographics.head()"
   ]
  },
  {
   "cell_type": "markdown",
   "id": "7fd6b297",
   "metadata": {
    "slideshow": {
     "slide_type": "slide"
    }
   },
   "source": [
    "We can see some of the standard demographic variables, like \"age\", \"sex\", \"BMI\", and so on. As you might be able to tell, however, this file not *only* contains \"demographic\" information but also some other participant data, as for example cognitive measurements (e.g. \"IST_memory\", \"IST_fluid\")."
   ]
  },
  {
   "cell_type": "markdown",
   "id": "6911d96d",
   "metadata": {
    "slideshow": {
     "slide_type": "slide"
    }
   },
   "source": [
    "![](images/IST.png)"
   ]
  },
  {
   "cell_type": "markdown",
   "id": "d2644230",
   "metadata": {
    "slideshow": {
     "slide_type": "slide"
    }
   },
   "source": [
    "### Connectomes\n",
    "\n",
    "Let us now check the connectomes out to see for which subjects we have preprocessed functional connectivity data available."
   ]
  },
  {
   "cell_type": "code",
   "execution_count": 4,
   "id": "7e404919",
   "metadata": {
    "slideshow": {
     "slide_type": "slide"
    }
   },
   "outputs": [
    {
     "name": "stdout",
     "output_type": "stream",
     "text": [
      "Rows (subjects) x Columns (features)\n",
      "(877, 8646)\n"
     ]
    },
    {
     "data": {
      "text/html": [
       "<div>\n",
       "<style scoped>\n",
       "    .dataframe tbody tr th:only-of-type {\n",
       "        vertical-align: middle;\n",
       "    }\n",
       "\n",
       "    .dataframe tbody tr th {\n",
       "        vertical-align: top;\n",
       "    }\n",
       "\n",
       "    .dataframe thead th {\n",
       "        text-align: right;\n",
       "    }\n",
       "</style>\n",
       "<table border=\"1\" class=\"dataframe\">\n",
       "  <thead>\n",
       "    <tr style=\"text-align: right;\">\n",
       "      <th></th>\n",
       "      <th>LH_VisCent_ExStr_2~LH_VisCent_ExStr_1</th>\n",
       "      <th>LH_VisCent_Striate_1~LH_VisCent_ExStr_1</th>\n",
       "      <th>LH_VisCent_Striate_1~LH_VisCent_ExStr_2</th>\n",
       "      <th>LH_VisCent_ExStr_3~LH_VisCent_ExStr_1</th>\n",
       "      <th>LH_VisCent_ExStr_3~LH_VisCent_ExStr_2</th>\n",
       "      <th>LH_VisCent_ExStr_3~LH_VisCent_Striate_1</th>\n",
       "      <th>LH_VisPeri_ExStrInf_1~LH_VisCent_ExStr_1</th>\n",
       "      <th>LH_VisPeri_ExStrInf_1~LH_VisCent_ExStr_2</th>\n",
       "      <th>LH_VisPeri_ExStrInf_1~LH_VisCent_Striate_1</th>\n",
       "      <th>LH_VisPeri_ExStrInf_1~LH_VisCent_ExStr_3</th>\n",
       "      <th>...</th>\n",
       "      <th>pCAU-lh~THA-VP-lh</th>\n",
       "      <th>pCAU-lh~THA-VA-lh</th>\n",
       "      <th>pCAU-lh~THA-DA-lh</th>\n",
       "      <th>pCAU-lh~NAc-shell-lh</th>\n",
       "      <th>pCAU-lh~NAc-core-lh</th>\n",
       "      <th>pCAU-lh~pGP-lh</th>\n",
       "      <th>pCAU-lh~aGP-lh</th>\n",
       "      <th>pCAU-lh~aPUT-lh</th>\n",
       "      <th>pCAU-lh~pPUT-lh</th>\n",
       "      <th>pCAU-lh~aCAU-lh</th>\n",
       "    </tr>\n",
       "  </thead>\n",
       "  <tbody>\n",
       "    <tr>\n",
       "      <th>sub-0001</th>\n",
       "      <td>0.533892</td>\n",
       "      <td>0.638701</td>\n",
       "      <td>0.560450</td>\n",
       "      <td>0.789158</td>\n",
       "      <td>0.466875</td>\n",
       "      <td>0.539399</td>\n",
       "      <td>0.677232</td>\n",
       "      <td>0.366597</td>\n",
       "      <td>0.361958</td>\n",
       "      <td>0.564919</td>\n",
       "      <td>...</td>\n",
       "      <td>0.072425</td>\n",
       "      <td>0.366347</td>\n",
       "      <td>0.327794</td>\n",
       "      <td>-0.069095</td>\n",
       "      <td>0.468919</td>\n",
       "      <td>-0.071477</td>\n",
       "      <td>0.040889</td>\n",
       "      <td>0.212324</td>\n",
       "      <td>0.173870</td>\n",
       "      <td>0.664122</td>\n",
       "    </tr>\n",
       "    <tr>\n",
       "      <th>sub-0002</th>\n",
       "      <td>0.641335</td>\n",
       "      <td>0.663375</td>\n",
       "      <td>0.545326</td>\n",
       "      <td>0.629451</td>\n",
       "      <td>0.187963</td>\n",
       "      <td>0.390782</td>\n",
       "      <td>0.670098</td>\n",
       "      <td>0.116997</td>\n",
       "      <td>0.397939</td>\n",
       "      <td>0.742349</td>\n",
       "      <td>...</td>\n",
       "      <td>-0.048029</td>\n",
       "      <td>0.294397</td>\n",
       "      <td>0.247182</td>\n",
       "      <td>0.050190</td>\n",
       "      <td>0.069237</td>\n",
       "      <td>-0.133454</td>\n",
       "      <td>0.011535</td>\n",
       "      <td>0.265424</td>\n",
       "      <td>0.147957</td>\n",
       "      <td>0.587463</td>\n",
       "    </tr>\n",
       "    <tr>\n",
       "      <th>sub-0003</th>\n",
       "      <td>0.657928</td>\n",
       "      <td>0.742613</td>\n",
       "      <td>0.453348</td>\n",
       "      <td>0.860049</td>\n",
       "      <td>0.523853</td>\n",
       "      <td>0.591320</td>\n",
       "      <td>0.770457</td>\n",
       "      <td>0.418997</td>\n",
       "      <td>0.645827</td>\n",
       "      <td>0.725303</td>\n",
       "      <td>...</td>\n",
       "      <td>-0.145307</td>\n",
       "      <td>0.240758</td>\n",
       "      <td>-0.014584</td>\n",
       "      <td>0.125811</td>\n",
       "      <td>0.397896</td>\n",
       "      <td>0.112837</td>\n",
       "      <td>0.292399</td>\n",
       "      <td>0.473047</td>\n",
       "      <td>0.224996</td>\n",
       "      <td>0.711400</td>\n",
       "    </tr>\n",
       "    <tr>\n",
       "      <th>sub-0004</th>\n",
       "      <td>0.788957</td>\n",
       "      <td>0.694655</td>\n",
       "      <td>0.660015</td>\n",
       "      <td>0.732351</td>\n",
       "      <td>0.517771</td>\n",
       "      <td>0.387978</td>\n",
       "      <td>0.620954</td>\n",
       "      <td>0.283812</td>\n",
       "      <td>0.426040</td>\n",
       "      <td>0.622988</td>\n",
       "      <td>...</td>\n",
       "      <td>0.288743</td>\n",
       "      <td>0.276673</td>\n",
       "      <td>0.355181</td>\n",
       "      <td>0.250076</td>\n",
       "      <td>0.216825</td>\n",
       "      <td>-0.064241</td>\n",
       "      <td>0.045752</td>\n",
       "      <td>0.379170</td>\n",
       "      <td>0.226584</td>\n",
       "      <td>0.388584</td>\n",
       "    </tr>\n",
       "    <tr>\n",
       "      <th>sub-0005</th>\n",
       "      <td>0.594372</td>\n",
       "      <td>0.761742</td>\n",
       "      <td>0.667648</td>\n",
       "      <td>0.791777</td>\n",
       "      <td>0.467393</td>\n",
       "      <td>0.515712</td>\n",
       "      <td>0.285025</td>\n",
       "      <td>-0.306764</td>\n",
       "      <td>0.179985</td>\n",
       "      <td>0.250133</td>\n",
       "      <td>...</td>\n",
       "      <td>-0.009222</td>\n",
       "      <td>0.393067</td>\n",
       "      <td>0.032954</td>\n",
       "      <td>0.220143</td>\n",
       "      <td>0.289458</td>\n",
       "      <td>0.012017</td>\n",
       "      <td>0.073975</td>\n",
       "      <td>0.515776</td>\n",
       "      <td>0.426828</td>\n",
       "      <td>0.701249</td>\n",
       "    </tr>\n",
       "  </tbody>\n",
       "</table>\n",
       "<p>5 rows × 8646 columns</p>\n",
       "</div>"
      ],
      "text/plain": [
       "          LH_VisCent_ExStr_2~LH_VisCent_ExStr_1  \\\n",
       "sub-0001                               0.533892   \n",
       "sub-0002                               0.641335   \n",
       "sub-0003                               0.657928   \n",
       "sub-0004                               0.788957   \n",
       "sub-0005                               0.594372   \n",
       "\n",
       "          LH_VisCent_Striate_1~LH_VisCent_ExStr_1  \\\n",
       "sub-0001                                 0.638701   \n",
       "sub-0002                                 0.663375   \n",
       "sub-0003                                 0.742613   \n",
       "sub-0004                                 0.694655   \n",
       "sub-0005                                 0.761742   \n",
       "\n",
       "          LH_VisCent_Striate_1~LH_VisCent_ExStr_2  \\\n",
       "sub-0001                                 0.560450   \n",
       "sub-0002                                 0.545326   \n",
       "sub-0003                                 0.453348   \n",
       "sub-0004                                 0.660015   \n",
       "sub-0005                                 0.667648   \n",
       "\n",
       "          LH_VisCent_ExStr_3~LH_VisCent_ExStr_1  \\\n",
       "sub-0001                               0.789158   \n",
       "sub-0002                               0.629451   \n",
       "sub-0003                               0.860049   \n",
       "sub-0004                               0.732351   \n",
       "sub-0005                               0.791777   \n",
       "\n",
       "          LH_VisCent_ExStr_3~LH_VisCent_ExStr_2  \\\n",
       "sub-0001                               0.466875   \n",
       "sub-0002                               0.187963   \n",
       "sub-0003                               0.523853   \n",
       "sub-0004                               0.517771   \n",
       "sub-0005                               0.467393   \n",
       "\n",
       "          LH_VisCent_ExStr_3~LH_VisCent_Striate_1  \\\n",
       "sub-0001                                 0.539399   \n",
       "sub-0002                                 0.390782   \n",
       "sub-0003                                 0.591320   \n",
       "sub-0004                                 0.387978   \n",
       "sub-0005                                 0.515712   \n",
       "\n",
       "          LH_VisPeri_ExStrInf_1~LH_VisCent_ExStr_1  \\\n",
       "sub-0001                                  0.677232   \n",
       "sub-0002                                  0.670098   \n",
       "sub-0003                                  0.770457   \n",
       "sub-0004                                  0.620954   \n",
       "sub-0005                                  0.285025   \n",
       "\n",
       "          LH_VisPeri_ExStrInf_1~LH_VisCent_ExStr_2  \\\n",
       "sub-0001                                  0.366597   \n",
       "sub-0002                                  0.116997   \n",
       "sub-0003                                  0.418997   \n",
       "sub-0004                                  0.283812   \n",
       "sub-0005                                 -0.306764   \n",
       "\n",
       "          LH_VisPeri_ExStrInf_1~LH_VisCent_Striate_1  \\\n",
       "sub-0001                                    0.361958   \n",
       "sub-0002                                    0.397939   \n",
       "sub-0003                                    0.645827   \n",
       "sub-0004                                    0.426040   \n",
       "sub-0005                                    0.179985   \n",
       "\n",
       "          LH_VisPeri_ExStrInf_1~LH_VisCent_ExStr_3  ...  pCAU-lh~THA-VP-lh  \\\n",
       "sub-0001                                  0.564919  ...           0.072425   \n",
       "sub-0002                                  0.742349  ...          -0.048029   \n",
       "sub-0003                                  0.725303  ...          -0.145307   \n",
       "sub-0004                                  0.622988  ...           0.288743   \n",
       "sub-0005                                  0.250133  ...          -0.009222   \n",
       "\n",
       "          pCAU-lh~THA-VA-lh  pCAU-lh~THA-DA-lh  pCAU-lh~NAc-shell-lh  \\\n",
       "sub-0001           0.366347           0.327794             -0.069095   \n",
       "sub-0002           0.294397           0.247182              0.050190   \n",
       "sub-0003           0.240758          -0.014584              0.125811   \n",
       "sub-0004           0.276673           0.355181              0.250076   \n",
       "sub-0005           0.393067           0.032954              0.220143   \n",
       "\n",
       "          pCAU-lh~NAc-core-lh  pCAU-lh~pGP-lh  pCAU-lh~aGP-lh  \\\n",
       "sub-0001             0.468919       -0.071477        0.040889   \n",
       "sub-0002             0.069237       -0.133454        0.011535   \n",
       "sub-0003             0.397896        0.112837        0.292399   \n",
       "sub-0004             0.216825       -0.064241        0.045752   \n",
       "sub-0005             0.289458        0.012017        0.073975   \n",
       "\n",
       "          pCAU-lh~aPUT-lh  pCAU-lh~pPUT-lh  pCAU-lh~aCAU-lh  \n",
       "sub-0001         0.212324         0.173870         0.664122  \n",
       "sub-0002         0.265424         0.147957         0.587463  \n",
       "sub-0003         0.473047         0.224996         0.711400  \n",
       "sub-0004         0.379170         0.226584         0.388584  \n",
       "sub-0005         0.515776         0.426828         0.701249  \n",
       "\n",
       "[5 rows x 8646 columns]"
      ]
     },
     "execution_count": 4,
     "metadata": {},
     "output_type": "execute_result"
    }
   ],
   "source": [
    "connectomes = pd.read_csv(connectomes_path, sep=\"\\t\", index_col=0, compression=\"gzip\")\n",
    "print(\"Rows (subjects) x Columns (features)\")\n",
    "print(connectomes.shape)\n",
    "connectomes.head()"
   ]
  },
  {
   "cell_type": "markdown",
   "id": "9b0f5a83",
   "metadata": {
    "slideshow": {
     "slide_type": "slide"
    }
   },
   "source": [
    "In this dataframe again, **each row** corresponds to *one subject* from the study. **Each column** represents a *unique pairwise relationship* between two brain areas. Since a brain parcellation with **N** areas results in an **NxN** symmetric correlation matrix per subject, one half of a subject's matrix is discarded. Similarly, the diagonal of this correlation matrix is also typically discarded as the correlation of an area with itself is always 1. The remaining entries can be stacked and result in one row of this dataframe. Thus, each row contains **N x (N-1) / 2** entries. In our case, the connectomes have **132 x (132 - 1) / 2 = 8646** columns. This concept is illustrated by the graphic below:\n",
    "\n",
    "![title](images/correlations.png)\n"
   ]
  },
  {
   "cell_type": "markdown",
   "id": "bb9f5fd2",
   "metadata": {
    "slideshow": {
     "slide_type": "slide"
    }
   },
   "source": [
    "![tableformat](images/table.png)"
   ]
  },
  {
   "cell_type": "markdown",
   "id": "eb69a1e6",
   "metadata": {
    "slideshow": {
     "slide_type": "slide"
    }
   },
   "source": [
    "### Preprocessing the data\n",
    "\n",
    "Let's make sure that we identify any missing information or values ('NaN') in the functional connectivity data and remove subjects with any 'NaN' entries."
   ]
  },
  {
   "cell_type": "markdown",
   "id": "a071b381",
   "metadata": {
    "slideshow": {
     "slide_type": "slide"
    }
   },
   "source": [
    "The pandas **isna()** method will check for each entry in the dataframe whether it is 'NaN' or not. That is, if an entry is 'NaN' it will return True and otherwise it will return False. We can use this to identify the indices (i.e. subjects) for which there are 'NaN' entries by combining it with the **any()** method provided by pandas.\n",
    "\n",
    "First see the output from **isna()**:"
   ]
  },
  {
   "cell_type": "code",
   "execution_count": 5,
   "id": "92e0553c",
   "metadata": {
    "slideshow": {
     "slide_type": "slide"
    }
   },
   "outputs": [
    {
     "data": {
      "text/html": [
       "<div>\n",
       "<style scoped>\n",
       "    .dataframe tbody tr th:only-of-type {\n",
       "        vertical-align: middle;\n",
       "    }\n",
       "\n",
       "    .dataframe tbody tr th {\n",
       "        vertical-align: top;\n",
       "    }\n",
       "\n",
       "    .dataframe thead th {\n",
       "        text-align: right;\n",
       "    }\n",
       "</style>\n",
       "<table border=\"1\" class=\"dataframe\">\n",
       "  <thead>\n",
       "    <tr style=\"text-align: right;\">\n",
       "      <th></th>\n",
       "      <th>LH_VisCent_ExStr_2~LH_VisCent_ExStr_1</th>\n",
       "      <th>LH_VisCent_Striate_1~LH_VisCent_ExStr_1</th>\n",
       "      <th>LH_VisCent_Striate_1~LH_VisCent_ExStr_2</th>\n",
       "      <th>LH_VisCent_ExStr_3~LH_VisCent_ExStr_1</th>\n",
       "      <th>LH_VisCent_ExStr_3~LH_VisCent_ExStr_2</th>\n",
       "      <th>LH_VisCent_ExStr_3~LH_VisCent_Striate_1</th>\n",
       "      <th>LH_VisPeri_ExStrInf_1~LH_VisCent_ExStr_1</th>\n",
       "      <th>LH_VisPeri_ExStrInf_1~LH_VisCent_ExStr_2</th>\n",
       "      <th>LH_VisPeri_ExStrInf_1~LH_VisCent_Striate_1</th>\n",
       "      <th>LH_VisPeri_ExStrInf_1~LH_VisCent_ExStr_3</th>\n",
       "      <th>...</th>\n",
       "      <th>pCAU-lh~THA-VP-lh</th>\n",
       "      <th>pCAU-lh~THA-VA-lh</th>\n",
       "      <th>pCAU-lh~THA-DA-lh</th>\n",
       "      <th>pCAU-lh~NAc-shell-lh</th>\n",
       "      <th>pCAU-lh~NAc-core-lh</th>\n",
       "      <th>pCAU-lh~pGP-lh</th>\n",
       "      <th>pCAU-lh~aGP-lh</th>\n",
       "      <th>pCAU-lh~aPUT-lh</th>\n",
       "      <th>pCAU-lh~pPUT-lh</th>\n",
       "      <th>pCAU-lh~aCAU-lh</th>\n",
       "    </tr>\n",
       "  </thead>\n",
       "  <tbody>\n",
       "    <tr>\n",
       "      <th>sub-0001</th>\n",
       "      <td>False</td>\n",
       "      <td>False</td>\n",
       "      <td>False</td>\n",
       "      <td>False</td>\n",
       "      <td>False</td>\n",
       "      <td>False</td>\n",
       "      <td>False</td>\n",
       "      <td>False</td>\n",
       "      <td>False</td>\n",
       "      <td>False</td>\n",
       "      <td>...</td>\n",
       "      <td>False</td>\n",
       "      <td>False</td>\n",
       "      <td>False</td>\n",
       "      <td>False</td>\n",
       "      <td>False</td>\n",
       "      <td>False</td>\n",
       "      <td>False</td>\n",
       "      <td>False</td>\n",
       "      <td>False</td>\n",
       "      <td>False</td>\n",
       "    </tr>\n",
       "    <tr>\n",
       "      <th>sub-0002</th>\n",
       "      <td>False</td>\n",
       "      <td>False</td>\n",
       "      <td>False</td>\n",
       "      <td>False</td>\n",
       "      <td>False</td>\n",
       "      <td>False</td>\n",
       "      <td>False</td>\n",
       "      <td>False</td>\n",
       "      <td>False</td>\n",
       "      <td>False</td>\n",
       "      <td>...</td>\n",
       "      <td>False</td>\n",
       "      <td>False</td>\n",
       "      <td>False</td>\n",
       "      <td>False</td>\n",
       "      <td>False</td>\n",
       "      <td>False</td>\n",
       "      <td>False</td>\n",
       "      <td>False</td>\n",
       "      <td>False</td>\n",
       "      <td>False</td>\n",
       "    </tr>\n",
       "    <tr>\n",
       "      <th>sub-0003</th>\n",
       "      <td>False</td>\n",
       "      <td>False</td>\n",
       "      <td>False</td>\n",
       "      <td>False</td>\n",
       "      <td>False</td>\n",
       "      <td>False</td>\n",
       "      <td>False</td>\n",
       "      <td>False</td>\n",
       "      <td>False</td>\n",
       "      <td>False</td>\n",
       "      <td>...</td>\n",
       "      <td>False</td>\n",
       "      <td>False</td>\n",
       "      <td>False</td>\n",
       "      <td>False</td>\n",
       "      <td>False</td>\n",
       "      <td>False</td>\n",
       "      <td>False</td>\n",
       "      <td>False</td>\n",
       "      <td>False</td>\n",
       "      <td>False</td>\n",
       "    </tr>\n",
       "    <tr>\n",
       "      <th>sub-0004</th>\n",
       "      <td>False</td>\n",
       "      <td>False</td>\n",
       "      <td>False</td>\n",
       "      <td>False</td>\n",
       "      <td>False</td>\n",
       "      <td>False</td>\n",
       "      <td>False</td>\n",
       "      <td>False</td>\n",
       "      <td>False</td>\n",
       "      <td>False</td>\n",
       "      <td>...</td>\n",
       "      <td>False</td>\n",
       "      <td>False</td>\n",
       "      <td>False</td>\n",
       "      <td>False</td>\n",
       "      <td>False</td>\n",
       "      <td>False</td>\n",
       "      <td>False</td>\n",
       "      <td>False</td>\n",
       "      <td>False</td>\n",
       "      <td>False</td>\n",
       "    </tr>\n",
       "    <tr>\n",
       "      <th>sub-0005</th>\n",
       "      <td>False</td>\n",
       "      <td>False</td>\n",
       "      <td>False</td>\n",
       "      <td>False</td>\n",
       "      <td>False</td>\n",
       "      <td>False</td>\n",
       "      <td>False</td>\n",
       "      <td>False</td>\n",
       "      <td>False</td>\n",
       "      <td>False</td>\n",
       "      <td>...</td>\n",
       "      <td>False</td>\n",
       "      <td>False</td>\n",
       "      <td>False</td>\n",
       "      <td>False</td>\n",
       "      <td>False</td>\n",
       "      <td>False</td>\n",
       "      <td>False</td>\n",
       "      <td>False</td>\n",
       "      <td>False</td>\n",
       "      <td>False</td>\n",
       "    </tr>\n",
       "  </tbody>\n",
       "</table>\n",
       "<p>5 rows × 8646 columns</p>\n",
       "</div>"
      ],
      "text/plain": [
       "          LH_VisCent_ExStr_2~LH_VisCent_ExStr_1  \\\n",
       "sub-0001                                  False   \n",
       "sub-0002                                  False   \n",
       "sub-0003                                  False   \n",
       "sub-0004                                  False   \n",
       "sub-0005                                  False   \n",
       "\n",
       "          LH_VisCent_Striate_1~LH_VisCent_ExStr_1  \\\n",
       "sub-0001                                    False   \n",
       "sub-0002                                    False   \n",
       "sub-0003                                    False   \n",
       "sub-0004                                    False   \n",
       "sub-0005                                    False   \n",
       "\n",
       "          LH_VisCent_Striate_1~LH_VisCent_ExStr_2  \\\n",
       "sub-0001                                    False   \n",
       "sub-0002                                    False   \n",
       "sub-0003                                    False   \n",
       "sub-0004                                    False   \n",
       "sub-0005                                    False   \n",
       "\n",
       "          LH_VisCent_ExStr_3~LH_VisCent_ExStr_1  \\\n",
       "sub-0001                                  False   \n",
       "sub-0002                                  False   \n",
       "sub-0003                                  False   \n",
       "sub-0004                                  False   \n",
       "sub-0005                                  False   \n",
       "\n",
       "          LH_VisCent_ExStr_3~LH_VisCent_ExStr_2  \\\n",
       "sub-0001                                  False   \n",
       "sub-0002                                  False   \n",
       "sub-0003                                  False   \n",
       "sub-0004                                  False   \n",
       "sub-0005                                  False   \n",
       "\n",
       "          LH_VisCent_ExStr_3~LH_VisCent_Striate_1  \\\n",
       "sub-0001                                    False   \n",
       "sub-0002                                    False   \n",
       "sub-0003                                    False   \n",
       "sub-0004                                    False   \n",
       "sub-0005                                    False   \n",
       "\n",
       "          LH_VisPeri_ExStrInf_1~LH_VisCent_ExStr_1  \\\n",
       "sub-0001                                     False   \n",
       "sub-0002                                     False   \n",
       "sub-0003                                     False   \n",
       "sub-0004                                     False   \n",
       "sub-0005                                     False   \n",
       "\n",
       "          LH_VisPeri_ExStrInf_1~LH_VisCent_ExStr_2  \\\n",
       "sub-0001                                     False   \n",
       "sub-0002                                     False   \n",
       "sub-0003                                     False   \n",
       "sub-0004                                     False   \n",
       "sub-0005                                     False   \n",
       "\n",
       "          LH_VisPeri_ExStrInf_1~LH_VisCent_Striate_1  \\\n",
       "sub-0001                                       False   \n",
       "sub-0002                                       False   \n",
       "sub-0003                                       False   \n",
       "sub-0004                                       False   \n",
       "sub-0005                                       False   \n",
       "\n",
       "          LH_VisPeri_ExStrInf_1~LH_VisCent_ExStr_3  ...  pCAU-lh~THA-VP-lh  \\\n",
       "sub-0001                                     False  ...              False   \n",
       "sub-0002                                     False  ...              False   \n",
       "sub-0003                                     False  ...              False   \n",
       "sub-0004                                     False  ...              False   \n",
       "sub-0005                                     False  ...              False   \n",
       "\n",
       "          pCAU-lh~THA-VA-lh  pCAU-lh~THA-DA-lh  pCAU-lh~NAc-shell-lh  \\\n",
       "sub-0001              False              False                 False   \n",
       "sub-0002              False              False                 False   \n",
       "sub-0003              False              False                 False   \n",
       "sub-0004              False              False                 False   \n",
       "sub-0005              False              False                 False   \n",
       "\n",
       "          pCAU-lh~NAc-core-lh  pCAU-lh~pGP-lh  pCAU-lh~aGP-lh  \\\n",
       "sub-0001                False           False           False   \n",
       "sub-0002                False           False           False   \n",
       "sub-0003                False           False           False   \n",
       "sub-0004                False           False           False   \n",
       "sub-0005                False           False           False   \n",
       "\n",
       "          pCAU-lh~aPUT-lh  pCAU-lh~pPUT-lh  pCAU-lh~aCAU-lh  \n",
       "sub-0001            False            False            False  \n",
       "sub-0002            False            False            False  \n",
       "sub-0003            False            False            False  \n",
       "sub-0004            False            False            False  \n",
       "sub-0005            False            False            False  \n",
       "\n",
       "[5 rows x 8646 columns]"
      ]
     },
     "execution_count": 5,
     "metadata": {},
     "output_type": "execute_result"
    }
   ],
   "source": [
    "# Check if any value of the matrix/df is NaN\n",
    "isna = connectomes.isna()\n",
    "isna.head()"
   ]
  },
  {
   "cell_type": "code",
   "execution_count": 6,
   "id": "0e07df3a",
   "metadata": {
    "slideshow": {
     "slide_type": "fragment"
    }
   },
   "outputs": [
    {
     "data": {
      "text/plain": [
       "sub-0001    False\n",
       "sub-0002    False\n",
       "sub-0003    False\n",
       "sub-0004    False\n",
       "sub-0005    False\n",
       "dtype: bool"
      ]
     },
     "execution_count": 6,
     "metadata": {},
     "output_type": "execute_result"
    }
   ],
   "source": [
    "# Check if there is any missing values in each row\n",
    "isna_any = isna.any(axis=1)\n",
    "isna_any.head()"
   ]
  },
  {
   "cell_type": "code",
   "execution_count": 7,
   "id": "49f0a77d",
   "metadata": {
    "slideshow": {
     "slide_type": "fragment"
    }
   },
   "outputs": [
    {
     "data": {
      "text/plain": [
       "0"
      ]
     },
     "execution_count": 7,
     "metadata": {},
     "output_type": "execute_result"
    }
   ],
   "source": [
    "# If the sum is 0, no missing value. If not, this number will represent the number of \n",
    "# rows (subjects) that have missing information. \n",
    "isna_any.sum()"
   ]
  },
  {
   "cell_type": "markdown",
   "id": "c22fd78c",
   "metadata": {
    "slideshow": {
     "slide_type": "slide"
    }
   },
   "source": [
    "The output (\"0\") shows us that there aren't any 'NaN' values, so we can simply proceed with the data we have here. \n",
    "\n",
    "As you can see from the previous cells, the demographics dataset contains 928 rows (i.e. subjects), whereas the connectome dataframe contains only 877 rows. Let us for further analyses only select subjects for which we actually have connectomes. We will keep the subjects in the demographics dataset that also have connectome information: "
   ]
  },
  {
   "cell_type": "code",
   "execution_count": 8,
   "id": "f450a178",
   "metadata": {
    "slideshow": {
     "slide_type": "slide"
    }
   },
   "outputs": [
    {
     "data": {
      "text/plain": [
       "Index(['sub-0001', 'sub-0002', 'sub-0003', 'sub-0004', 'sub-0005', 'sub-0006',\n",
       "       'sub-0007', 'sub-0008', 'sub-0010', 'sub-0011',\n",
       "       ...\n",
       "       'sub-0918', 'sub-0919', 'sub-0920', 'sub-0921', 'sub-0922', 'sub-0923',\n",
       "       'sub-0924', 'sub-0925', 'sub-0926', 'sub-0927'],\n",
       "      dtype='object', length=877)"
      ]
     },
     "execution_count": 8,
     "metadata": {},
     "output_type": "execute_result"
    }
   ],
   "source": [
    "connectomes.index"
   ]
  },
  {
   "cell_type": "code",
   "execution_count": 9,
   "id": "8490e76d",
   "metadata": {
    "slideshow": {
     "slide_type": "fragment"
    }
   },
   "outputs": [
    {
     "name": "stdout",
     "output_type": "stream",
     "text": [
      "Rows (subjects) x Columns (features)\n",
      "(877, 30)\n"
     ]
    },
    {
     "data": {
      "text/html": [
       "<div>\n",
       "<style scoped>\n",
       "    .dataframe tbody tr th:only-of-type {\n",
       "        vertical-align: middle;\n",
       "    }\n",
       "\n",
       "    .dataframe tbody tr th {\n",
       "        vertical-align: top;\n",
       "    }\n",
       "\n",
       "    .dataframe thead th {\n",
       "        text-align: right;\n",
       "    }\n",
       "</style>\n",
       "<table border=\"1\" class=\"dataframe\">\n",
       "  <thead>\n",
       "    <tr style=\"text-align: right;\">\n",
       "      <th></th>\n",
       "      <th>age</th>\n",
       "      <th>sex</th>\n",
       "      <th>handedness</th>\n",
       "      <th>BMI</th>\n",
       "      <th>education_level</th>\n",
       "      <th>background_SES</th>\n",
       "      <th>IST_fluid</th>\n",
       "      <th>IST_memory</th>\n",
       "      <th>IST_crystallised</th>\n",
       "      <th>IST_intelligence_total</th>\n",
       "      <th>...</th>\n",
       "      <th>sexual_attraction_M</th>\n",
       "      <th>sexual_attraction_F</th>\n",
       "      <th>gender_identity_M</th>\n",
       "      <th>gender_identity_F</th>\n",
       "      <th>religious_upbringing</th>\n",
       "      <th>religious_now</th>\n",
       "      <th>religious_importance</th>\n",
       "      <th>DWI_TR_run1</th>\n",
       "      <th>DWI_TR_run2</th>\n",
       "      <th>DWI_TR_run3</th>\n",
       "    </tr>\n",
       "  </thead>\n",
       "  <tbody>\n",
       "    <tr>\n",
       "      <th>sub-0001</th>\n",
       "      <td>22.00</td>\n",
       "      <td>female</td>\n",
       "      <td>right</td>\n",
       "      <td>23</td>\n",
       "      <td>medium</td>\n",
       "      <td>2.0</td>\n",
       "      <td>77.0</td>\n",
       "      <td>49.0</td>\n",
       "      <td>33.0</td>\n",
       "      <td>159.0</td>\n",
       "      <td>...</td>\n",
       "      <td>7.0</td>\n",
       "      <td>1.0</td>\n",
       "      <td>1.0</td>\n",
       "      <td>7.0</td>\n",
       "      <td>no</td>\n",
       "      <td>yes</td>\n",
       "      <td>2.0</td>\n",
       "      <td>6.312</td>\n",
       "      <td>6.312</td>\n",
       "      <td>6.312</td>\n",
       "    </tr>\n",
       "    <tr>\n",
       "      <th>sub-0002</th>\n",
       "      <td>21.75</td>\n",
       "      <td>female</td>\n",
       "      <td>right</td>\n",
       "      <td>20</td>\n",
       "      <td>medium</td>\n",
       "      <td>5.5</td>\n",
       "      <td>97.0</td>\n",
       "      <td>63.0</td>\n",
       "      <td>39.0</td>\n",
       "      <td>199.0</td>\n",
       "      <td>...</td>\n",
       "      <td>7.0</td>\n",
       "      <td>1.0</td>\n",
       "      <td>2.0</td>\n",
       "      <td>7.0</td>\n",
       "      <td>no</td>\n",
       "      <td>no</td>\n",
       "      <td>NaN</td>\n",
       "      <td>NaN</td>\n",
       "      <td>6.311</td>\n",
       "      <td>6.311</td>\n",
       "    </tr>\n",
       "    <tr>\n",
       "      <th>sub-0003</th>\n",
       "      <td>25.25</td>\n",
       "      <td>female</td>\n",
       "      <td>right</td>\n",
       "      <td>31</td>\n",
       "      <td>high</td>\n",
       "      <td>3.0</td>\n",
       "      <td>122.0</td>\n",
       "      <td>67.0</td>\n",
       "      <td>38.0</td>\n",
       "      <td>227.0</td>\n",
       "      <td>...</td>\n",
       "      <td>6.0</td>\n",
       "      <td>3.0</td>\n",
       "      <td>1.0</td>\n",
       "      <td>6.0</td>\n",
       "      <td>no</td>\n",
       "      <td>no</td>\n",
       "      <td>NaN</td>\n",
       "      <td>6.312</td>\n",
       "      <td>6.312</td>\n",
       "      <td>6.312</td>\n",
       "    </tr>\n",
       "    <tr>\n",
       "      <th>sub-0004</th>\n",
       "      <td>22.50</td>\n",
       "      <td>female</td>\n",
       "      <td>right</td>\n",
       "      <td>20</td>\n",
       "      <td>high</td>\n",
       "      <td>5.0</td>\n",
       "      <td>149.0</td>\n",
       "      <td>69.0</td>\n",
       "      <td>52.0</td>\n",
       "      <td>270.0</td>\n",
       "      <td>...</td>\n",
       "      <td>6.0</td>\n",
       "      <td>2.0</td>\n",
       "      <td>1.0</td>\n",
       "      <td>7.0</td>\n",
       "      <td>yes</td>\n",
       "      <td>no</td>\n",
       "      <td>NaN</td>\n",
       "      <td>6.311</td>\n",
       "      <td>6.311</td>\n",
       "      <td>6.311</td>\n",
       "    </tr>\n",
       "    <tr>\n",
       "      <th>sub-0005</th>\n",
       "      <td>22.25</td>\n",
       "      <td>male</td>\n",
       "      <td>right</td>\n",
       "      <td>23</td>\n",
       "      <td>high</td>\n",
       "      <td>4.5</td>\n",
       "      <td>112.0</td>\n",
       "      <td>57.0</td>\n",
       "      <td>43.0</td>\n",
       "      <td>212.0</td>\n",
       "      <td>...</td>\n",
       "      <td>1.0</td>\n",
       "      <td>7.0</td>\n",
       "      <td>6.0</td>\n",
       "      <td>1.0</td>\n",
       "      <td>no</td>\n",
       "      <td>no</td>\n",
       "      <td>NaN</td>\n",
       "      <td>6.311</td>\n",
       "      <td>6.311</td>\n",
       "      <td>6.311</td>\n",
       "    </tr>\n",
       "  </tbody>\n",
       "</table>\n",
       "<p>5 rows × 30 columns</p>\n",
       "</div>"
      ],
      "text/plain": [
       "            age     sex handedness  BMI education_level  background_SES  \\\n",
       "sub-0001  22.00  female      right   23          medium             2.0   \n",
       "sub-0002  21.75  female      right   20          medium             5.5   \n",
       "sub-0003  25.25  female      right   31            high             3.0   \n",
       "sub-0004  22.50  female      right   20            high             5.0   \n",
       "sub-0005  22.25    male      right   23            high             4.5   \n",
       "\n",
       "          IST_fluid  IST_memory  IST_crystallised  IST_intelligence_total  \\\n",
       "sub-0001       77.0        49.0              33.0                   159.0   \n",
       "sub-0002       97.0        63.0              39.0                   199.0   \n",
       "sub-0003      122.0        67.0              38.0                   227.0   \n",
       "sub-0004      149.0        69.0              52.0                   270.0   \n",
       "sub-0005      112.0        57.0              43.0                   212.0   \n",
       "\n",
       "          ...  sexual_attraction_M  sexual_attraction_F  gender_identity_M  \\\n",
       "sub-0001  ...                  7.0                  1.0                1.0   \n",
       "sub-0002  ...                  7.0                  1.0                2.0   \n",
       "sub-0003  ...                  6.0                  3.0                1.0   \n",
       "sub-0004  ...                  6.0                  2.0                1.0   \n",
       "sub-0005  ...                  1.0                  7.0                6.0   \n",
       "\n",
       "          gender_identity_F  religious_upbringing  religious_now  \\\n",
       "sub-0001                7.0                    no            yes   \n",
       "sub-0002                7.0                    no             no   \n",
       "sub-0003                6.0                    no             no   \n",
       "sub-0004                7.0                   yes             no   \n",
       "sub-0005                1.0                    no             no   \n",
       "\n",
       "          religious_importance  DWI_TR_run1  DWI_TR_run2  DWI_TR_run3  \n",
       "sub-0001                   2.0        6.312        6.312        6.312  \n",
       "sub-0002                   NaN          NaN        6.311        6.311  \n",
       "sub-0003                   NaN        6.312        6.312        6.312  \n",
       "sub-0004                   NaN        6.311        6.311        6.311  \n",
       "sub-0005                   NaN        6.311        6.311        6.311  \n",
       "\n",
       "[5 rows x 30 columns]"
      ]
     },
     "execution_count": 9,
     "metadata": {},
     "output_type": "execute_result"
    }
   ],
   "source": [
    "subsampled_demographics = demographics.loc[connectomes.index]\n",
    "print(\"Rows (subjects) x Columns (features)\")\n",
    "print(subsampled_demographics.shape)\n",
    "subsampled_demographics.head()"
   ]
  },
  {
   "cell_type": "markdown",
   "id": "980d92e5",
   "metadata": {
    "slideshow": {
     "slide_type": "slide"
    }
   },
   "source": [
    "The indexing using the **.loc()** method importantly also ensures that the rows in both dataframes are in the same order which will be important later when we want to use the data as input to scikit-learn."
   ]
  },
  {
   "cell_type": "markdown",
   "id": "dfed3214",
   "metadata": {
    "slideshow": {
     "slide_type": "slide"
    }
   },
   "source": [
    "### Exploring our sample:\n",
    "\n",
    "Now that the samples in the connectome data and the demographics data are matched, let's take a quick look at our data. What can you find out about the dataset and potential variables of interest, i.e. sex, age, ... to get an overview of our sample?"
   ]
  },
  {
   "cell_type": "markdown",
   "id": "35ac473d",
   "metadata": {
    "slideshow": {
     "slide_type": "slide"
    }
   },
   "source": [
    "The **value_counts()** method takes a pandas series (i.e. a column from the dataframe) and counts the number of times each possible value is contained in the column. This is a good way of discovering what values are possible for a specific variable, and how many instances there are for each value. This is useful for example when looking at categorical variables, for example \"sex\":"
   ]
  },
  {
   "cell_type": "code",
   "execution_count": 11,
   "id": "ee755abf",
   "metadata": {
    "slideshow": {
     "slide_type": "slide"
    }
   },
   "outputs": [
    {
     "data": {
      "text/plain": [
       "female    454\n",
       "male      423\n",
       "Name: sex, dtype: int64"
      ]
     },
     "execution_count": 11,
     "metadata": {},
     "output_type": "execute_result"
    }
   ],
   "source": [
    "subsampled_demographics[\"sex\"].value_counts()"
   ]
  },
  {
   "cell_type": "markdown",
   "id": "413de870",
   "metadata": {
    "slideshow": {
     "slide_type": "slide"
    }
   },
   "source": [
    "The **plot.hist()** pandas method provides a quick way of making a histogram that we can also group by \"sex\" to look at each distribution seperately: "
   ]
  },
  {
   "cell_type": "code",
   "execution_count": 12,
   "id": "4e340d0d",
   "metadata": {
    "scrolled": false,
    "slideshow": {
     "slide_type": "slide"
    }
   },
   "outputs": [
    {
     "data": {
      "text/plain": [
       "array([<AxesSubplot: title={'center': 'female'}, ylabel='Frequency'>,\n",
       "       <AxesSubplot: title={'center': 'male'}, ylabel='Frequency'>],\n",
       "      dtype=object)"
      ]
     },
     "execution_count": 12,
     "metadata": {},
     "output_type": "execute_result"
    },
    {
     "data": {
      "image/png": "[encoded data removed]",
      "text/plain": [
       "<Figure size 1000x800 with 2 Axes>"
      ]
     },
     "metadata": {},
     "output_type": "display_data"
    }
   ],
   "source": [
    "subsampled_demographics.plot.hist(column=[\"age\"], by=\"sex\", figsize=(10, 8))"
   ]
  },
  {
   "cell_type": "markdown",
   "id": "f7fa930a",
   "metadata": {
    "slideshow": {
     "slide_type": "slide"
    }
   },
   "source": [
    "As you can see, the age range is quite narrow, and limited to young people. This is a common problem in neuroimaging or psychology studies, which often sample students from their universities for convenience. It is always good to be aware of these limitations before starting any complicated machine learning pipeline."
   ]
  },
  {
   "cell_type": "markdown",
   "id": "7ce09c14",
   "metadata": {
    "slideshow": {
     "slide_type": "slide"
    }
   },
   "source": [
    "## Preparing the target\n",
    "\n",
    "Now, let's try to build a model that can predict a measure of intelligence given a functional connectome. That is, the connectomes will be the **features ('X')** and the measure of intelligence will be the **target ('y')**. Let us first take a quick look at our target and its distribution. The **.describe()** method that pandas provides can be used to get a quick look over the relevant descriptive statistics that we may care about:\n"
   ]
  },
  {
   "cell_type": "code",
   "execution_count": 13,
   "id": "b86ccfac",
   "metadata": {
    "slideshow": {
     "slide_type": "slide"
    }
   },
   "outputs": [
    {
     "data": {
      "text/plain": [
       "count    875.000000\n",
       "mean     200.400000\n",
       "std       40.765557\n",
       "min       68.000000\n",
       "25%      172.000000\n",
       "50%      205.000000\n",
       "75%      230.000000\n",
       "max      296.000000\n",
       "Name: IST_intelligence_total, dtype: float64"
      ]
     },
     "execution_count": 13,
     "metadata": {},
     "output_type": "execute_result"
    }
   ],
   "source": [
    "subsampled_demographics[\"IST_intelligence_total\"].describe()"
   ]
  },
  {
   "cell_type": "markdown",
   "id": "60dff35c",
   "metadata": {
    "slideshow": {
     "slide_type": "slide"
    }
   },
   "source": [
    "As we did before, we can quickly plot the histogram of our target:"
   ]
  },
  {
   "cell_type": "code",
   "execution_count": 14,
   "id": "458a222c",
   "metadata": {
    "slideshow": {
     "slide_type": "slide"
    }
   },
   "outputs": [
    {
     "data": {
      "text/plain": [
       "array([<AxesSubplot: title={'center': 'female'}, ylabel='Frequency'>,\n",
       "       <AxesSubplot: title={'center': 'male'}, ylabel='Frequency'>],\n",
       "      dtype=object)"
      ]
     },
     "execution_count": 14,
     "metadata": {},
     "output_type": "execute_result"
    },
    {
     "data": {
      "image/png": "[encoded data removed]",
      "text/plain": [
       "<Figure size 1000x800 with 2 Axes>"
      ]
     },
     "metadata": {},
     "output_type": "display_data"
    }
   ],
   "source": [
    "subsampled_demographics.plot.hist(column=\"IST_intelligence_total\", by=\"sex\", figsize=(10, 8))"
   ]
  },
  {
   "cell_type": "markdown",
   "id": "bba222ef",
   "metadata": {
    "slideshow": {
     "slide_type": "slide"
    }
   },
   "source": [
    "The descriptive statistics and the histogram show that the measure of intelligence is roughly normally distributed between values of 100 and 300 with a mean of 200.4 and a standard deviation of 40.77."
   ]
  },
  {
   "cell_type": "markdown",
   "id": "53f3571d",
   "metadata": {
    "slideshow": {
     "slide_type": "slide"
    }
   },
   "source": [
    "Also we will check if there are any NaN values in the target."
   ]
  },
  {
   "cell_type": "code",
   "execution_count": 15,
   "id": "4f39caac",
   "metadata": {
    "slideshow": {
     "slide_type": "slide"
    }
   },
   "outputs": [
    {
     "data": {
      "text/plain": [
       "2"
      ]
     },
     "execution_count": 15,
     "metadata": {},
     "output_type": "execute_result"
    }
   ],
   "source": [
    "subsampled_demographics[\"IST_intelligence_total\"].isna().sum()"
   ]
  },
  {
   "cell_type": "markdown",
   "id": "aa73dcb9",
   "metadata": {
    "slideshow": {
     "slide_type": "slide"
    }
   },
   "source": [
    "We can see that there are two instances with missing values which we will have to exclude from the analysis. Let's have a look at the 'NaN' samples.\n",
    "\n",
    "We can use the return value of the **isna()** method to index the original dataframe to see which samples have the 'NaN' values:"
   ]
  },
  {
   "cell_type": "code",
   "execution_count": 16,
   "id": "ab9d6d71",
   "metadata": {
    "slideshow": {
     "slide_type": "slide"
    }
   },
   "outputs": [
    {
     "data": {
      "text/html": [
       "<div>\n",
       "<style scoped>\n",
       "    .dataframe tbody tr th:only-of-type {\n",
       "        vertical-align: middle;\n",
       "    }\n",
       "\n",
       "    .dataframe tbody tr th {\n",
       "        vertical-align: top;\n",
       "    }\n",
       "\n",
       "    .dataframe thead th {\n",
       "        text-align: right;\n",
       "    }\n",
       "</style>\n",
       "<table border=\"1\" class=\"dataframe\">\n",
       "  <thead>\n",
       "    <tr style=\"text-align: right;\">\n",
       "      <th></th>\n",
       "      <th>age</th>\n",
       "      <th>sex</th>\n",
       "      <th>handedness</th>\n",
       "      <th>BMI</th>\n",
       "      <th>education_level</th>\n",
       "      <th>background_SES</th>\n",
       "      <th>IST_fluid</th>\n",
       "      <th>IST_memory</th>\n",
       "      <th>IST_crystallised</th>\n",
       "      <th>IST_intelligence_total</th>\n",
       "      <th>...</th>\n",
       "      <th>sexual_attraction_M</th>\n",
       "      <th>sexual_attraction_F</th>\n",
       "      <th>gender_identity_M</th>\n",
       "      <th>gender_identity_F</th>\n",
       "      <th>religious_upbringing</th>\n",
       "      <th>religious_now</th>\n",
       "      <th>religious_importance</th>\n",
       "      <th>DWI_TR_run1</th>\n",
       "      <th>DWI_TR_run2</th>\n",
       "      <th>DWI_TR_run3</th>\n",
       "    </tr>\n",
       "  </thead>\n",
       "  <tbody>\n",
       "    <tr>\n",
       "      <th>sub-0127</th>\n",
       "      <td>25.25</td>\n",
       "      <td>female</td>\n",
       "      <td>right</td>\n",
       "      <td>24</td>\n",
       "      <td>medium</td>\n",
       "      <td>2.0</td>\n",
       "      <td>NaN</td>\n",
       "      <td>NaN</td>\n",
       "      <td>NaN</td>\n",
       "      <td>NaN</td>\n",
       "      <td>...</td>\n",
       "      <td>NaN</td>\n",
       "      <td>NaN</td>\n",
       "      <td>NaN</td>\n",
       "      <td>NaN</td>\n",
       "      <td>yes</td>\n",
       "      <td>yes</td>\n",
       "      <td>5.0</td>\n",
       "      <td>6.312</td>\n",
       "      <td>6.312</td>\n",
       "      <td>6.312</td>\n",
       "    </tr>\n",
       "    <tr>\n",
       "      <th>sub-0390</th>\n",
       "      <td>20.50</td>\n",
       "      <td>female</td>\n",
       "      <td>left</td>\n",
       "      <td>22</td>\n",
       "      <td>medium</td>\n",
       "      <td>3.5</td>\n",
       "      <td>NaN</td>\n",
       "      <td>NaN</td>\n",
       "      <td>NaN</td>\n",
       "      <td>NaN</td>\n",
       "      <td>...</td>\n",
       "      <td>NaN</td>\n",
       "      <td>NaN</td>\n",
       "      <td>NaN</td>\n",
       "      <td>NaN</td>\n",
       "      <td>no</td>\n",
       "      <td>no</td>\n",
       "      <td>NaN</td>\n",
       "      <td>6.313</td>\n",
       "      <td>6.313</td>\n",
       "      <td>6.313</td>\n",
       "    </tr>\n",
       "  </tbody>\n",
       "</table>\n",
       "<p>2 rows × 30 columns</p>\n",
       "</div>"
      ],
      "text/plain": [
       "            age     sex handedness  BMI education_level  background_SES  \\\n",
       "sub-0127  25.25  female      right   24          medium             2.0   \n",
       "sub-0390  20.50  female       left   22          medium             3.5   \n",
       "\n",
       "          IST_fluid  IST_memory  IST_crystallised  IST_intelligence_total  \\\n",
       "sub-0127        NaN         NaN               NaN                     NaN   \n",
       "sub-0390        NaN         NaN               NaN                     NaN   \n",
       "\n",
       "          ...  sexual_attraction_M  sexual_attraction_F  gender_identity_M  \\\n",
       "sub-0127  ...                  NaN                  NaN                NaN   \n",
       "sub-0390  ...                  NaN                  NaN                NaN   \n",
       "\n",
       "          gender_identity_F  religious_upbringing  religious_now  \\\n",
       "sub-0127                NaN                   yes            yes   \n",
       "sub-0390                NaN                    no             no   \n",
       "\n",
       "          religious_importance  DWI_TR_run1  DWI_TR_run2  DWI_TR_run3  \n",
       "sub-0127                   5.0        6.312        6.312        6.312  \n",
       "sub-0390                   NaN        6.313        6.313        6.313  \n",
       "\n",
       "[2 rows x 30 columns]"
      ]
     },
     "execution_count": 16,
     "metadata": {},
     "output_type": "execute_result"
    }
   ],
   "source": [
    "subsampled_demographics.loc[subsampled_demographics[\"IST_intelligence_total\"].isna()]"
   ]
  },
  {
   "cell_type": "markdown",
   "id": "d57ad75d",
   "metadata": {
    "slideshow": {
     "slide_type": "slide"
    }
   },
   "source": [
    "Likewise, we can use the \"**~**\" operator to negate or invert the boolean values of the **isna()** array to index the subjects which **do not** have 'NaN' values:"
   ]
  },
  {
   "cell_type": "code",
   "execution_count": 18,
   "id": "6c6491c0",
   "metadata": {
    "slideshow": {
     "slide_type": "slide"
    }
   },
   "outputs": [
    {
     "data": {
      "text/html": [
       "<div>\n",
       "<style scoped>\n",
       "    .dataframe tbody tr th:only-of-type {\n",
       "        vertical-align: middle;\n",
       "    }\n",
       "\n",
       "    .dataframe tbody tr th {\n",
       "        vertical-align: top;\n",
       "    }\n",
       "\n",
       "    .dataframe thead th {\n",
       "        text-align: right;\n",
       "    }\n",
       "</style>\n",
       "<table border=\"1\" class=\"dataframe\">\n",
       "  <thead>\n",
       "    <tr style=\"text-align: right;\">\n",
       "      <th></th>\n",
       "      <th>age</th>\n",
       "      <th>sex</th>\n",
       "      <th>handedness</th>\n",
       "      <th>BMI</th>\n",
       "      <th>education_level</th>\n",
       "      <th>background_SES</th>\n",
       "      <th>IST_fluid</th>\n",
       "      <th>IST_memory</th>\n",
       "      <th>IST_crystallised</th>\n",
       "      <th>IST_intelligence_total</th>\n",
       "      <th>...</th>\n",
       "      <th>sexual_attraction_M</th>\n",
       "      <th>sexual_attraction_F</th>\n",
       "      <th>gender_identity_M</th>\n",
       "      <th>gender_identity_F</th>\n",
       "      <th>religious_upbringing</th>\n",
       "      <th>religious_now</th>\n",
       "      <th>religious_importance</th>\n",
       "      <th>DWI_TR_run1</th>\n",
       "      <th>DWI_TR_run2</th>\n",
       "      <th>DWI_TR_run3</th>\n",
       "    </tr>\n",
       "  </thead>\n",
       "  <tbody>\n",
       "    <tr>\n",
       "      <th>sub-0001</th>\n",
       "      <td>22.00</td>\n",
       "      <td>female</td>\n",
       "      <td>right</td>\n",
       "      <td>23</td>\n",
       "      <td>medium</td>\n",
       "      <td>2.0</td>\n",
       "      <td>77.0</td>\n",
       "      <td>49.0</td>\n",
       "      <td>33.0</td>\n",
       "      <td>159.0</td>\n",
       "      <td>...</td>\n",
       "      <td>7.0</td>\n",
       "      <td>1.0</td>\n",
       "      <td>1.0</td>\n",
       "      <td>7.0</td>\n",
       "      <td>no</td>\n",
       "      <td>yes</td>\n",
       "      <td>2.0</td>\n",
       "      <td>6.312</td>\n",
       "      <td>6.312</td>\n",
       "      <td>6.312</td>\n",
       "    </tr>\n",
       "    <tr>\n",
       "      <th>sub-0002</th>\n",
       "      <td>21.75</td>\n",
       "      <td>female</td>\n",
       "      <td>right</td>\n",
       "      <td>20</td>\n",
       "      <td>medium</td>\n",
       "      <td>5.5</td>\n",
       "      <td>97.0</td>\n",
       "      <td>63.0</td>\n",
       "      <td>39.0</td>\n",
       "      <td>199.0</td>\n",
       "      <td>...</td>\n",
       "      <td>7.0</td>\n",
       "      <td>1.0</td>\n",
       "      <td>2.0</td>\n",
       "      <td>7.0</td>\n",
       "      <td>no</td>\n",
       "      <td>no</td>\n",
       "      <td>NaN</td>\n",
       "      <td>NaN</td>\n",
       "      <td>6.311</td>\n",
       "      <td>6.311</td>\n",
       "    </tr>\n",
       "    <tr>\n",
       "      <th>sub-0003</th>\n",
       "      <td>25.25</td>\n",
       "      <td>female</td>\n",
       "      <td>right</td>\n",
       "      <td>31</td>\n",
       "      <td>high</td>\n",
       "      <td>3.0</td>\n",
       "      <td>122.0</td>\n",
       "      <td>67.0</td>\n",
       "      <td>38.0</td>\n",
       "      <td>227.0</td>\n",
       "      <td>...</td>\n",
       "      <td>6.0</td>\n",
       "      <td>3.0</td>\n",
       "      <td>1.0</td>\n",
       "      <td>6.0</td>\n",
       "      <td>no</td>\n",
       "      <td>no</td>\n",
       "      <td>NaN</td>\n",
       "      <td>6.312</td>\n",
       "      <td>6.312</td>\n",
       "      <td>6.312</td>\n",
       "    </tr>\n",
       "    <tr>\n",
       "      <th>sub-0004</th>\n",
       "      <td>22.50</td>\n",
       "      <td>female</td>\n",
       "      <td>right</td>\n",
       "      <td>20</td>\n",
       "      <td>high</td>\n",
       "      <td>5.0</td>\n",
       "      <td>149.0</td>\n",
       "      <td>69.0</td>\n",
       "      <td>52.0</td>\n",
       "      <td>270.0</td>\n",
       "      <td>...</td>\n",
       "      <td>6.0</td>\n",
       "      <td>2.0</td>\n",
       "      <td>1.0</td>\n",
       "      <td>7.0</td>\n",
       "      <td>yes</td>\n",
       "      <td>no</td>\n",
       "      <td>NaN</td>\n",
       "      <td>6.311</td>\n",
       "      <td>6.311</td>\n",
       "      <td>6.311</td>\n",
       "    </tr>\n",
       "    <tr>\n",
       "      <th>sub-0005</th>\n",
       "      <td>22.25</td>\n",
       "      <td>male</td>\n",
       "      <td>right</td>\n",
       "      <td>23</td>\n",
       "      <td>high</td>\n",
       "      <td>4.5</td>\n",
       "      <td>112.0</td>\n",
       "      <td>57.0</td>\n",
       "      <td>43.0</td>\n",
       "      <td>212.0</td>\n",
       "      <td>...</td>\n",
       "      <td>1.0</td>\n",
       "      <td>7.0</td>\n",
       "      <td>6.0</td>\n",
       "      <td>1.0</td>\n",
       "      <td>no</td>\n",
       "      <td>no</td>\n",
       "      <td>NaN</td>\n",
       "      <td>6.311</td>\n",
       "      <td>6.311</td>\n",
       "      <td>6.311</td>\n",
       "    </tr>\n",
       "    <tr>\n",
       "      <th>...</th>\n",
       "      <td>...</td>\n",
       "      <td>...</td>\n",
       "      <td>...</td>\n",
       "      <td>...</td>\n",
       "      <td>...</td>\n",
       "      <td>...</td>\n",
       "      <td>...</td>\n",
       "      <td>...</td>\n",
       "      <td>...</td>\n",
       "      <td>...</td>\n",
       "      <td>...</td>\n",
       "      <td>...</td>\n",
       "      <td>...</td>\n",
       "      <td>...</td>\n",
       "      <td>...</td>\n",
       "      <td>...</td>\n",
       "      <td>...</td>\n",
       "      <td>...</td>\n",
       "      <td>...</td>\n",
       "      <td>...</td>\n",
       "      <td>...</td>\n",
       "    </tr>\n",
       "    <tr>\n",
       "      <th>sub-0923</th>\n",
       "      <td>21.75</td>\n",
       "      <td>male</td>\n",
       "      <td>right</td>\n",
       "      <td>19</td>\n",
       "      <td>medium</td>\n",
       "      <td>3.0</td>\n",
       "      <td>70.0</td>\n",
       "      <td>49.0</td>\n",
       "      <td>34.0</td>\n",
       "      <td>153.0</td>\n",
       "      <td>...</td>\n",
       "      <td>1.0</td>\n",
       "      <td>7.0</td>\n",
       "      <td>7.0</td>\n",
       "      <td>1.0</td>\n",
       "      <td>no</td>\n",
       "      <td>no</td>\n",
       "      <td>NaN</td>\n",
       "      <td>6.733</td>\n",
       "      <td>6.733</td>\n",
       "      <td>6.733</td>\n",
       "    </tr>\n",
       "    <tr>\n",
       "      <th>sub-0924</th>\n",
       "      <td>22.25</td>\n",
       "      <td>male</td>\n",
       "      <td>right</td>\n",
       "      <td>21</td>\n",
       "      <td>medium</td>\n",
       "      <td>3.0</td>\n",
       "      <td>136.0</td>\n",
       "      <td>56.0</td>\n",
       "      <td>54.0</td>\n",
       "      <td>246.0</td>\n",
       "      <td>...</td>\n",
       "      <td>2.0</td>\n",
       "      <td>6.0</td>\n",
       "      <td>4.0</td>\n",
       "      <td>4.0</td>\n",
       "      <td>no</td>\n",
       "      <td>no</td>\n",
       "      <td>NaN</td>\n",
       "      <td>6.374</td>\n",
       "      <td>6.374</td>\n",
       "      <td>6.374</td>\n",
       "    </tr>\n",
       "    <tr>\n",
       "      <th>sub-0925</th>\n",
       "      <td>25.25</td>\n",
       "      <td>male</td>\n",
       "      <td>right</td>\n",
       "      <td>30</td>\n",
       "      <td>medium</td>\n",
       "      <td>4.0</td>\n",
       "      <td>64.0</td>\n",
       "      <td>37.0</td>\n",
       "      <td>49.0</td>\n",
       "      <td>150.0</td>\n",
       "      <td>...</td>\n",
       "      <td>1.0</td>\n",
       "      <td>7.0</td>\n",
       "      <td>7.0</td>\n",
       "      <td>1.0</td>\n",
       "      <td>no</td>\n",
       "      <td>no</td>\n",
       "      <td>NaN</td>\n",
       "      <td>6.311</td>\n",
       "      <td>6.311</td>\n",
       "      <td>6.311</td>\n",
       "    </tr>\n",
       "    <tr>\n",
       "      <th>sub-0926</th>\n",
       "      <td>20.75</td>\n",
       "      <td>male</td>\n",
       "      <td>right</td>\n",
       "      <td>22</td>\n",
       "      <td>high</td>\n",
       "      <td>2.0</td>\n",
       "      <td>84.0</td>\n",
       "      <td>44.0</td>\n",
       "      <td>33.0</td>\n",
       "      <td>161.0</td>\n",
       "      <td>...</td>\n",
       "      <td>NaN</td>\n",
       "      <td>NaN</td>\n",
       "      <td>NaN</td>\n",
       "      <td>NaN</td>\n",
       "      <td>yes</td>\n",
       "      <td>yes</td>\n",
       "      <td>5.0</td>\n",
       "      <td>6.312</td>\n",
       "      <td>6.312</td>\n",
       "      <td>6.312</td>\n",
       "    </tr>\n",
       "    <tr>\n",
       "      <th>sub-0927</th>\n",
       "      <td>24.25</td>\n",
       "      <td>female</td>\n",
       "      <td>right</td>\n",
       "      <td>35</td>\n",
       "      <td>medium</td>\n",
       "      <td>2.5</td>\n",
       "      <td>98.0</td>\n",
       "      <td>57.0</td>\n",
       "      <td>35.0</td>\n",
       "      <td>190.0</td>\n",
       "      <td>...</td>\n",
       "      <td>7.0</td>\n",
       "      <td>2.0</td>\n",
       "      <td>1.0</td>\n",
       "      <td>7.0</td>\n",
       "      <td>no</td>\n",
       "      <td>no</td>\n",
       "      <td>NaN</td>\n",
       "      <td>6.311</td>\n",
       "      <td>6.311</td>\n",
       "      <td>6.311</td>\n",
       "    </tr>\n",
       "  </tbody>\n",
       "</table>\n",
       "<p>875 rows × 30 columns</p>\n",
       "</div>"
      ],
      "text/plain": [
       "            age     sex handedness  BMI education_level  background_SES  \\\n",
       "sub-0001  22.00  female      right   23          medium             2.0   \n",
       "sub-0002  21.75  female      right   20          medium             5.5   \n",
       "sub-0003  25.25  female      right   31            high             3.0   \n",
       "sub-0004  22.50  female      right   20            high             5.0   \n",
       "sub-0005  22.25    male      right   23            high             4.5   \n",
       "...         ...     ...        ...  ...             ...             ...   \n",
       "sub-0923  21.75    male      right   19          medium             3.0   \n",
       "sub-0924  22.25    male      right   21          medium             3.0   \n",
       "sub-0925  25.25    male      right   30          medium             4.0   \n",
       "sub-0926  20.75    male      right   22            high             2.0   \n",
       "sub-0927  24.25  female      right   35          medium             2.5   \n",
       "\n",
       "          IST_fluid  IST_memory  IST_crystallised  IST_intelligence_total  \\\n",
       "sub-0001       77.0        49.0              33.0                   159.0   \n",
       "sub-0002       97.0        63.0              39.0                   199.0   \n",
       "sub-0003      122.0        67.0              38.0                   227.0   \n",
       "sub-0004      149.0        69.0              52.0                   270.0   \n",
       "sub-0005      112.0        57.0              43.0                   212.0   \n",
       "...             ...         ...               ...                     ...   \n",
       "sub-0923       70.0        49.0              34.0                   153.0   \n",
       "sub-0924      136.0        56.0              54.0                   246.0   \n",
       "sub-0925       64.0        37.0              49.0                   150.0   \n",
       "sub-0926       84.0        44.0              33.0                   161.0   \n",
       "sub-0927       98.0        57.0              35.0                   190.0   \n",
       "\n",
       "          ...  sexual_attraction_M  sexual_attraction_F  gender_identity_M  \\\n",
       "sub-0001  ...                  7.0                  1.0                1.0   \n",
       "sub-0002  ...                  7.0                  1.0                2.0   \n",
       "sub-0003  ...                  6.0                  3.0                1.0   \n",
       "sub-0004  ...                  6.0                  2.0                1.0   \n",
       "sub-0005  ...                  1.0                  7.0                6.0   \n",
       "...       ...                  ...                  ...                ...   \n",
       "sub-0923  ...                  1.0                  7.0                7.0   \n",
       "sub-0924  ...                  2.0                  6.0                4.0   \n",
       "sub-0925  ...                  1.0                  7.0                7.0   \n",
       "sub-0926  ...                  NaN                  NaN                NaN   \n",
       "sub-0927  ...                  7.0                  2.0                1.0   \n",
       "\n",
       "          gender_identity_F  religious_upbringing  religious_now  \\\n",
       "sub-0001                7.0                    no            yes   \n",
       "sub-0002                7.0                    no             no   \n",
       "sub-0003                6.0                    no             no   \n",
       "sub-0004                7.0                   yes             no   \n",
       "sub-0005                1.0                    no             no   \n",
       "...                     ...                   ...            ...   \n",
       "sub-0923                1.0                    no             no   \n",
       "sub-0924                4.0                    no             no   \n",
       "sub-0925                1.0                    no             no   \n",
       "sub-0926                NaN                   yes            yes   \n",
       "sub-0927                7.0                    no             no   \n",
       "\n",
       "          religious_importance  DWI_TR_run1  DWI_TR_run2  DWI_TR_run3  \n",
       "sub-0001                   2.0        6.312        6.312        6.312  \n",
       "sub-0002                   NaN          NaN        6.311        6.311  \n",
       "sub-0003                   NaN        6.312        6.312        6.312  \n",
       "sub-0004                   NaN        6.311        6.311        6.311  \n",
       "sub-0005                   NaN        6.311        6.311        6.311  \n",
       "...                        ...          ...          ...          ...  \n",
       "sub-0923                   NaN        6.733        6.733        6.733  \n",
       "sub-0924                   NaN        6.374        6.374        6.374  \n",
       "sub-0925                   NaN        6.311        6.311        6.311  \n",
       "sub-0926                   5.0        6.312        6.312        6.312  \n",
       "sub-0927                   NaN        6.311        6.311        6.311  \n",
       "\n",
       "[875 rows x 30 columns]"
      ]
     },
     "execution_count": 18,
     "metadata": {},
     "output_type": "execute_result"
    }
   ],
   "source": [
    "exclude_target_nans = subsampled_demographics[\n",
    "    ~subsampled_demographics[\"IST_intelligence_total\"].isna()\n",
    "]\n",
    "\n",
    "exclude_target_nans"
   ]
  },
  {
   "cell_type": "markdown",
   "id": "06dc4423",
   "metadata": {
    "slideshow": {
     "slide_type": "slide"
    }
   },
   "source": [
    "The **exclude_target_nans** dataframe now only contains data that actually has data for our target.\n",
    "\n",
    "We can convince ourselves that this worked correctly by double checking the 'NaN' count. These types of sanity checks (double checking that your code worked even if you think it is obvious can be extremely useful at catching problems early on):"
   ]
  },
  {
   "cell_type": "code",
   "execution_count": 19,
   "id": "710146f2",
   "metadata": {
    "slideshow": {
     "slide_type": "slide"
    }
   },
   "outputs": [
    {
     "data": {
      "text/plain": [
       "0"
      ]
     },
     "execution_count": 19,
     "metadata": {},
     "output_type": "execute_result"
    }
   ],
   "source": [
    "exclude_target_nans[\"IST_intelligence_total\"].isna().sum()"
   ]
  },
  {
   "cell_type": "markdown",
   "id": "d1a827f9",
   "metadata": {
    "slideshow": {
     "slide_type": "slide"
    }
   },
   "source": [
    "As expected this returns 0, so we are all good. Now we need to just select the same subjects for the connectomes and make sure that rows are in the same order for both features as well as the target. We can do this by indexing the connectomes using the index from our target data:"
   ]
  },
  {
   "cell_type": "code",
   "execution_count": 20,
   "id": "80d63056",
   "metadata": {
    "slideshow": {
     "slide_type": "slide"
    }
   },
   "outputs": [
    {
     "name": "stdout",
     "output_type": "stream",
     "text": [
      "Rows (subjects) x Columns (features)\n",
      "(875, 8646)\n"
     ]
    },
    {
     "data": {
      "text/html": [
       "<div>\n",
       "<style scoped>\n",
       "    .dataframe tbody tr th:only-of-type {\n",
       "        vertical-align: middle;\n",
       "    }\n",
       "\n",
       "    .dataframe tbody tr th {\n",
       "        vertical-align: top;\n",
       "    }\n",
       "\n",
       "    .dataframe thead th {\n",
       "        text-align: right;\n",
       "    }\n",
       "</style>\n",
       "<table border=\"1\" class=\"dataframe\">\n",
       "  <thead>\n",
       "    <tr style=\"text-align: right;\">\n",
       "      <th></th>\n",
       "      <th>LH_VisCent_ExStr_2~LH_VisCent_ExStr_1</th>\n",
       "      <th>LH_VisCent_Striate_1~LH_VisCent_ExStr_1</th>\n",
       "      <th>LH_VisCent_Striate_1~LH_VisCent_ExStr_2</th>\n",
       "      <th>LH_VisCent_ExStr_3~LH_VisCent_ExStr_1</th>\n",
       "      <th>LH_VisCent_ExStr_3~LH_VisCent_ExStr_2</th>\n",
       "      <th>LH_VisCent_ExStr_3~LH_VisCent_Striate_1</th>\n",
       "      <th>LH_VisPeri_ExStrInf_1~LH_VisCent_ExStr_1</th>\n",
       "      <th>LH_VisPeri_ExStrInf_1~LH_VisCent_ExStr_2</th>\n",
       "      <th>LH_VisPeri_ExStrInf_1~LH_VisCent_Striate_1</th>\n",
       "      <th>LH_VisPeri_ExStrInf_1~LH_VisCent_ExStr_3</th>\n",
       "      <th>...</th>\n",
       "      <th>pCAU-lh~THA-VP-lh</th>\n",
       "      <th>pCAU-lh~THA-VA-lh</th>\n",
       "      <th>pCAU-lh~THA-DA-lh</th>\n",
       "      <th>pCAU-lh~NAc-shell-lh</th>\n",
       "      <th>pCAU-lh~NAc-core-lh</th>\n",
       "      <th>pCAU-lh~pGP-lh</th>\n",
       "      <th>pCAU-lh~aGP-lh</th>\n",
       "      <th>pCAU-lh~aPUT-lh</th>\n",
       "      <th>pCAU-lh~pPUT-lh</th>\n",
       "      <th>pCAU-lh~aCAU-lh</th>\n",
       "    </tr>\n",
       "  </thead>\n",
       "  <tbody>\n",
       "    <tr>\n",
       "      <th>sub-0001</th>\n",
       "      <td>0.533892</td>\n",
       "      <td>0.638701</td>\n",
       "      <td>0.560450</td>\n",
       "      <td>0.789158</td>\n",
       "      <td>0.466875</td>\n",
       "      <td>0.539399</td>\n",
       "      <td>0.677232</td>\n",
       "      <td>0.366597</td>\n",
       "      <td>0.361958</td>\n",
       "      <td>0.564919</td>\n",
       "      <td>...</td>\n",
       "      <td>0.072425</td>\n",
       "      <td>0.366347</td>\n",
       "      <td>0.327794</td>\n",
       "      <td>-0.069095</td>\n",
       "      <td>0.468919</td>\n",
       "      <td>-0.071477</td>\n",
       "      <td>0.040889</td>\n",
       "      <td>0.212324</td>\n",
       "      <td>0.173870</td>\n",
       "      <td>0.664122</td>\n",
       "    </tr>\n",
       "    <tr>\n",
       "      <th>sub-0002</th>\n",
       "      <td>0.641335</td>\n",
       "      <td>0.663375</td>\n",
       "      <td>0.545326</td>\n",
       "      <td>0.629451</td>\n",
       "      <td>0.187963</td>\n",
       "      <td>0.390782</td>\n",
       "      <td>0.670098</td>\n",
       "      <td>0.116997</td>\n",
       "      <td>0.397939</td>\n",
       "      <td>0.742349</td>\n",
       "      <td>...</td>\n",
       "      <td>-0.048029</td>\n",
       "      <td>0.294397</td>\n",
       "      <td>0.247182</td>\n",
       "      <td>0.050190</td>\n",
       "      <td>0.069237</td>\n",
       "      <td>-0.133454</td>\n",
       "      <td>0.011535</td>\n",
       "      <td>0.265424</td>\n",
       "      <td>0.147957</td>\n",
       "      <td>0.587463</td>\n",
       "    </tr>\n",
       "    <tr>\n",
       "      <th>sub-0003</th>\n",
       "      <td>0.657928</td>\n",
       "      <td>0.742613</td>\n",
       "      <td>0.453348</td>\n",
       "      <td>0.860049</td>\n",
       "      <td>0.523853</td>\n",
       "      <td>0.591320</td>\n",
       "      <td>0.770457</td>\n",
       "      <td>0.418997</td>\n",
       "      <td>0.645827</td>\n",
       "      <td>0.725303</td>\n",
       "      <td>...</td>\n",
       "      <td>-0.145307</td>\n",
       "      <td>0.240758</td>\n",
       "      <td>-0.014584</td>\n",
       "      <td>0.125811</td>\n",
       "      <td>0.397896</td>\n",
       "      <td>0.112837</td>\n",
       "      <td>0.292399</td>\n",
       "      <td>0.473047</td>\n",
       "      <td>0.224996</td>\n",
       "      <td>0.711400</td>\n",
       "    </tr>\n",
       "    <tr>\n",
       "      <th>sub-0004</th>\n",
       "      <td>0.788957</td>\n",
       "      <td>0.694655</td>\n",
       "      <td>0.660015</td>\n",
       "      <td>0.732351</td>\n",
       "      <td>0.517771</td>\n",
       "      <td>0.387978</td>\n",
       "      <td>0.620954</td>\n",
       "      <td>0.283812</td>\n",
       "      <td>0.426040</td>\n",
       "      <td>0.622988</td>\n",
       "      <td>...</td>\n",
       "      <td>0.288743</td>\n",
       "      <td>0.276673</td>\n",
       "      <td>0.355181</td>\n",
       "      <td>0.250076</td>\n",
       "      <td>0.216825</td>\n",
       "      <td>-0.064241</td>\n",
       "      <td>0.045752</td>\n",
       "      <td>0.379170</td>\n",
       "      <td>0.226584</td>\n",
       "      <td>0.388584</td>\n",
       "    </tr>\n",
       "    <tr>\n",
       "      <th>sub-0005</th>\n",
       "      <td>0.594372</td>\n",
       "      <td>0.761742</td>\n",
       "      <td>0.667648</td>\n",
       "      <td>0.791777</td>\n",
       "      <td>0.467393</td>\n",
       "      <td>0.515712</td>\n",
       "      <td>0.285025</td>\n",
       "      <td>-0.306764</td>\n",
       "      <td>0.179985</td>\n",
       "      <td>0.250133</td>\n",
       "      <td>...</td>\n",
       "      <td>-0.009222</td>\n",
       "      <td>0.393067</td>\n",
       "      <td>0.032954</td>\n",
       "      <td>0.220143</td>\n",
       "      <td>0.289458</td>\n",
       "      <td>0.012017</td>\n",
       "      <td>0.073975</td>\n",
       "      <td>0.515776</td>\n",
       "      <td>0.426828</td>\n",
       "      <td>0.701249</td>\n",
       "    </tr>\n",
       "  </tbody>\n",
       "</table>\n",
       "<p>5 rows × 8646 columns</p>\n",
       "</div>"
      ],
      "text/plain": [
       "          LH_VisCent_ExStr_2~LH_VisCent_ExStr_1  \\\n",
       "sub-0001                               0.533892   \n",
       "sub-0002                               0.641335   \n",
       "sub-0003                               0.657928   \n",
       "sub-0004                               0.788957   \n",
       "sub-0005                               0.594372   \n",
       "\n",
       "          LH_VisCent_Striate_1~LH_VisCent_ExStr_1  \\\n",
       "sub-0001                                 0.638701   \n",
       "sub-0002                                 0.663375   \n",
       "sub-0003                                 0.742613   \n",
       "sub-0004                                 0.694655   \n",
       "sub-0005                                 0.761742   \n",
       "\n",
       "          LH_VisCent_Striate_1~LH_VisCent_ExStr_2  \\\n",
       "sub-0001                                 0.560450   \n",
       "sub-0002                                 0.545326   \n",
       "sub-0003                                 0.453348   \n",
       "sub-0004                                 0.660015   \n",
       "sub-0005                                 0.667648   \n",
       "\n",
       "          LH_VisCent_ExStr_3~LH_VisCent_ExStr_1  \\\n",
       "sub-0001                               0.789158   \n",
       "sub-0002                               0.629451   \n",
       "sub-0003                               0.860049   \n",
       "sub-0004                               0.732351   \n",
       "sub-0005                               0.791777   \n",
       "\n",
       "          LH_VisCent_ExStr_3~LH_VisCent_ExStr_2  \\\n",
       "sub-0001                               0.466875   \n",
       "sub-0002                               0.187963   \n",
       "sub-0003                               0.523853   \n",
       "sub-0004                               0.517771   \n",
       "sub-0005                               0.467393   \n",
       "\n",
       "          LH_VisCent_ExStr_3~LH_VisCent_Striate_1  \\\n",
       "sub-0001                                 0.539399   \n",
       "sub-0002                                 0.390782   \n",
       "sub-0003                                 0.591320   \n",
       "sub-0004                                 0.387978   \n",
       "sub-0005                                 0.515712   \n",
       "\n",
       "          LH_VisPeri_ExStrInf_1~LH_VisCent_ExStr_1  \\\n",
       "sub-0001                                  0.677232   \n",
       "sub-0002                                  0.670098   \n",
       "sub-0003                                  0.770457   \n",
       "sub-0004                                  0.620954   \n",
       "sub-0005                                  0.285025   \n",
       "\n",
       "          LH_VisPeri_ExStrInf_1~LH_VisCent_ExStr_2  \\\n",
       "sub-0001                                  0.366597   \n",
       "sub-0002                                  0.116997   \n",
       "sub-0003                                  0.418997   \n",
       "sub-0004                                  0.283812   \n",
       "sub-0005                                 -0.306764   \n",
       "\n",
       "          LH_VisPeri_ExStrInf_1~LH_VisCent_Striate_1  \\\n",
       "sub-0001                                    0.361958   \n",
       "sub-0002                                    0.397939   \n",
       "sub-0003                                    0.645827   \n",
       "sub-0004                                    0.426040   \n",
       "sub-0005                                    0.179985   \n",
       "\n",
       "          LH_VisPeri_ExStrInf_1~LH_VisCent_ExStr_3  ...  pCAU-lh~THA-VP-lh  \\\n",
       "sub-0001                                  0.564919  ...           0.072425   \n",
       "sub-0002                                  0.742349  ...          -0.048029   \n",
       "sub-0003                                  0.725303  ...          -0.145307   \n",
       "sub-0004                                  0.622988  ...           0.288743   \n",
       "sub-0005                                  0.250133  ...          -0.009222   \n",
       "\n",
       "          pCAU-lh~THA-VA-lh  pCAU-lh~THA-DA-lh  pCAU-lh~NAc-shell-lh  \\\n",
       "sub-0001           0.366347           0.327794             -0.069095   \n",
       "sub-0002           0.294397           0.247182              0.050190   \n",
       "sub-0003           0.240758          -0.014584              0.125811   \n",
       "sub-0004           0.276673           0.355181              0.250076   \n",
       "sub-0005           0.393067           0.032954              0.220143   \n",
       "\n",
       "          pCAU-lh~NAc-core-lh  pCAU-lh~pGP-lh  pCAU-lh~aGP-lh  \\\n",
       "sub-0001             0.468919       -0.071477        0.040889   \n",
       "sub-0002             0.069237       -0.133454        0.011535   \n",
       "sub-0003             0.397896        0.112837        0.292399   \n",
       "sub-0004             0.216825       -0.064241        0.045752   \n",
       "sub-0005             0.289458        0.012017        0.073975   \n",
       "\n",
       "          pCAU-lh~aPUT-lh  pCAU-lh~pPUT-lh  pCAU-lh~aCAU-lh  \n",
       "sub-0001         0.212324         0.173870         0.664122  \n",
       "sub-0002         0.265424         0.147957         0.587463  \n",
       "sub-0003         0.473047         0.224996         0.711400  \n",
       "sub-0004         0.379170         0.226584         0.388584  \n",
       "sub-0005         0.515776         0.426828         0.701249  \n",
       "\n",
       "[5 rows x 8646 columns]"
      ]
     },
     "execution_count": 20,
     "metadata": {},
     "output_type": "execute_result"
    }
   ],
   "source": [
    "subsampled_connectomes = connectomes.loc[exclude_target_nans.index]\n",
    "print(\"Rows (subjects) x Columns (features)\")\n",
    "print(subsampled_connectomes.shape)\n",
    "subsampled_connectomes.head()"
   ]
  },
  {
   "cell_type": "markdown",
   "id": "9499e4aa",
   "metadata": {},
   "source": [
    "Let's prepare the X and the y."
   ]
  },
  {
   "cell_type": "code",
   "execution_count": 21,
   "id": "37c50c1d",
   "metadata": {
    "slideshow": {
     "slide_type": "slide"
    }
   },
   "outputs": [],
   "source": [
    "X = subsampled_connectomes\n",
    "y = exclude_target_nans[\"IST_intelligence_total\"]"
   ]
  },
  {
   "cell_type": "markdown",
   "id": "7913d282",
   "metadata": {
    "slideshow": {
     "slide_type": "slide"
    }
   },
   "source": [
    "### Train-test split\n",
    "\n",
    "Let us first split the data so we have one hold-out validation set that will be left untouched for now."
   ]
  },
  {
   "cell_type": "code",
   "execution_count": 25,
   "id": "d6a127d1",
   "metadata": {
    "slideshow": {
     "slide_type": "slide"
    }
   },
   "outputs": [],
   "source": [
    "from sklearn.model_selection import train_test_split\n",
    "\n",
    "X_model_selection, X_holdout, y_model_selection, y_holdout = train_test_split(X, y, random_state=25)"
   ]
  },
  {
   "cell_type": "markdown",
   "id": "b05b3ef4",
   "metadata": {
    "slideshow": {
     "slide_type": "slide"
    }
   },
   "source": [
    "### Fitting a bunch of models\n",
    "\n",
    "Every problem, every classification or regression task is different, and therefore requires a different model. In other words, which model works best depends on the underlying processes that generate the distribution of our X and on the \"true\" function that maps X to y. In other words, we cannot really know which model will work best before we try it out. Let us test out a few popular options therefore starting with a **Ridge Regression**."
   ]
  },
  {
   "cell_type": "code",
   "execution_count": 22,
   "id": "e35e3aad",
   "metadata": {
    "slideshow": {
     "slide_type": "slide"
    }
   },
   "outputs": [],
   "source": [
    "from sklearn.linear_model import Ridge"
   ]
  },
  {
   "cell_type": "markdown",
   "id": "8cbd44a9",
   "metadata": {
    "slideshow": {
     "slide_type": "slide"
    }
   },
   "source": [
    "If we check out the **sklearn documentation**, we see that the **Ridge Regression estimator** has a parameter called **alpha**, which can be set to a positive floating point value. This is a **hyperparameter**, *that must be set by the user and cannot be fitted based on the data*. How can we know which value is the best one? First, run the code in the next cell to see the documentation:"
   ]
  },
  {
   "cell_type": "code",
   "execution_count": 23,
   "id": "7078beaf",
   "metadata": {
    "slideshow": {
     "slide_type": "slide"
    }
   },
   "outputs": [],
   "source": [
    "?Ridge"
   ]
  },
  {
   "cell_type": "markdown",
   "id": "4a7c2227",
   "metadata": {
    "slideshow": {
     "slide_type": "slide"
    }
   },
   "source": [
    "A simple approach would be to try out a number of different **candidate values** for **alpha** and see how well they compare to each other. That is, we could define a **grid** of candidate values, and **search** the candidate that gives us the best outcome. In order to make sure the estimate of the goodness of the outcome (i.e. our estimate of the error) is not dependent on a specific train-test split, we want to perform a cross-validation for every candidate value."
   ]
  },
  {
   "cell_type": "markdown",
   "id": "605bff81",
   "metadata": {
    "slideshow": {
     "slide_type": "slide"
    }
   },
   "source": [
    "Scikit-learn allows us to perform **model selection using a cross-validated gridsearch** using the **GridSearchCV** object. Let's import it:"
   ]
  },
  {
   "cell_type": "code",
   "execution_count": 24,
   "id": "aa131bd5",
   "metadata": {
    "slideshow": {
     "slide_type": "slide"
    }
   },
   "outputs": [],
   "source": [
    "from sklearn.model_selection import GridSearchCV"
   ]
  },
  {
   "cell_type": "markdown",
   "id": "4ac0d860",
   "metadata": {
    "slideshow": {
     "slide_type": "slide"
    }
   },
   "source": [
    "Let's check out the documentation:"
   ]
  },
  {
   "cell_type": "code",
   "execution_count": null,
   "id": "249bbdfd",
   "metadata": {
    "slideshow": {
     "slide_type": "slide"
    }
   },
   "outputs": [],
   "source": [
    "?GridSearchCV"
   ]
  },
  {
   "cell_type": "markdown",
   "id": "fdcd168e",
   "metadata": {
    "slideshow": {
     "slide_type": "slide"
    }
   },
   "source": [
    "We can see many parameters, but there are 4 which we care about predominantly:\n",
    "\n",
    "1. **\"estimator\"** -> our sklearn estimator object (i.e. the model class)\n",
    "2. **\"param_grid\"** -> the grid of hyperparameters to search\n",
    "3. **\"scoring\"** -> which scoring metric to use\n",
    "4. **\"cv\"** -> the cross-validation scheme to use\n",
    "   "
   ]
  },
  {
   "cell_type": "markdown",
   "id": "92034c2b",
   "metadata": {
    "slideshow": {
     "slide_type": "slide"
    }
   },
   "source": [
    "For the moment, let's go with the example of the ridge regressor, for which we want to tune the alpha value. We can define the estimator as:"
   ]
  },
  {
   "cell_type": "code",
   "execution_count": 26,
   "id": "3626afb7",
   "metadata": {
    "slideshow": {
     "slide_type": "slide"
    }
   },
   "outputs": [],
   "source": [
    "ridge = Ridge()"
   ]
  },
  {
   "cell_type": "markdown",
   "id": "b7b10401",
   "metadata": {
    "slideshow": {
     "slide_type": "slide"
    }
   },
   "source": [
    "The **param_grid** parameter typically is handed over as a **dictionary** in which the **keys** consist of the names of the parameters that are to be set for the estimator, and the **values** of the dictionary each yield an **iterable** (for example a **list**) of **possible candidate values** for each parameter.\n",
    "\n",
    "For our Ridge model, we can define a very simple grid with candidate values for the alpha parameter as follows. Note, that this is only an example grid and should not serve you as a future reference as a grid for a Ridge regressor (that is, don't just blindly copy this grid if you want to use a ridge regressor in your work). The values that you choose for your grid can highly depend on your goals and the problem at hand, but it can also help to search the literature that has used the models you want to use and see how they may have defined a grid to search:"
   ]
  },
  {
   "cell_type": "code",
   "execution_count": 27,
   "id": "366e2174",
   "metadata": {
    "slideshow": {
     "slide_type": "slide"
    }
   },
   "outputs": [],
   "source": [
    "param_grid_ridge = {\n",
    "    \"alpha\": [0.001, 0.01, 0.1, 1, 2, 10, 50, 100, 200, 300, 500, 1000]\n",
    "}"
   ]
  },
  {
   "cell_type": "markdown",
   "id": "19dc8ed9",
   "metadata": {
    "slideshow": {
     "slide_type": "slide"
    }
   },
   "source": [
    "The scoring parameter defines which scoring metric we care about, i.e. which scoring metric should be optimized by the grid search. It can be a string if the metric is already in-built in sklearn. For simplicity we will use [\"r2\"](https://scikit-learn.org/stable/modules/generated/sklearn.metrics.r2_score.html) here, otherwise known as coefficient of determination.\n",
    "\n",
    "To see what other metrics are available check out this: https://scikit-learn.org/stable/modules/model_evaluation.html"
   ]
  },
  {
   "cell_type": "code",
   "execution_count": 28,
   "id": "9dd81b95",
   "metadata": {
    "slideshow": {
     "slide_type": "slide"
    }
   },
   "outputs": [],
   "source": [
    "scoring = \"r2\""
   ]
  },
  {
   "cell_type": "markdown",
   "id": "32abbebf",
   "metadata": {
    "slideshow": {
     "slide_type": "slide"
    }
   },
   "source": [
    "Lastly, the \"cv\" parameter can be any scikit-learn compatible cross-validation scheme. Here we will use a simple 5-fold cross-validation. We should also make sure that the KFold cv shuffles the data, but with a specific random state, so that the results are reproducible:"
   ]
  },
  {
   "cell_type": "code",
   "execution_count": 30,
   "id": "f44fed6f",
   "metadata": {
    "slideshow": {
     "slide_type": "slide"
    }
   },
   "outputs": [],
   "source": [
    "from sklearn.model_selection import KFold\n",
    "kfold = KFold(n_splits=5, shuffle=True, random_state=100)"
   ]
  },
  {
   "cell_type": "markdown",
   "id": "8535c5f2",
   "metadata": {
    "slideshow": {
     "slide_type": "slide"
    }
   },
   "source": [
    "We can then initialise the GridSearchCV object, and fit it like any other scikit-learn estimator:"
   ]
  },
  {
   "cell_type": "code",
   "execution_count": 31,
   "id": "f4046fcb",
   "metadata": {
    "slideshow": {
     "slide_type": "slide"
    }
   },
   "outputs": [
    {
     "data": {
      "text/html": [
       "<style>#sk-container-id-1 {color: black;background-color: white;}#sk-container-id-1 pre{padding: 0;}#sk-container-id-1 div.sk-toggleable {background-color: white;}#sk-container-id-1 label.sk-toggleable__label {cursor: pointer;display: block;width: 100%;margin-bottom: 0;padding: 0.3em;box-sizing: border-box;text-align: center;}#sk-container-id-1 label.sk-toggleable__label-arrow:before {content: \"▸\";float: left;margin-right: 0.25em;color: #696969;}#sk-container-id-1 label.sk-toggleable__label-arrow:hover:before {color: black;}#sk-container-id-1 div.sk-estimator:hover label.sk-toggleable__label-arrow:before {color: black;}#sk-container-id-1 div.sk-toggleable__content {max-height: 0;max-width: 0;overflow: hidden;text-align: left;background-color: #f0f8ff;}#sk-container-id-1 div.sk-toggleable__content pre {margin: 0.2em;color: black;border-radius: 0.25em;background-color: #f0f8ff;}#sk-container-id-1 input.sk-toggleable__control:checked~div.sk-toggleable__content {max-height: 200px;max-width: 100%;overflow: auto;}#sk-container-id-1 input.sk-toggleable__control:checked~label.sk-toggleable__label-arrow:before {content: \"▾\";}#sk-container-id-1 div.sk-estimator input.sk-toggleable__control:checked~label.sk-toggleable__label {background-color: #d4ebff;}#sk-container-id-1 div.sk-label input.sk-toggleable__control:checked~label.sk-toggleable__label {background-color: #d4ebff;}#sk-container-id-1 input.sk-hidden--visually {border: 0;clip: rect(1px 1px 1px 1px);clip: rect(1px, 1px, 1px, 1px);height: 1px;margin: -1px;overflow: hidden;padding: 0;position: absolute;width: 1px;}#sk-container-id-1 div.sk-estimator {font-family: monospace;background-color: #f0f8ff;border: 1px dotted black;border-radius: 0.25em;box-sizing: border-box;margin-bottom: 0.5em;}#sk-container-id-1 div.sk-estimator:hover {background-color: #d4ebff;}#sk-container-id-1 div.sk-parallel-item::after {content: \"\";width: 100%;border-bottom: 1px solid gray;flex-grow: 1;}#sk-container-id-1 div.sk-label:hover label.sk-toggleable__label {background-color: #d4ebff;}#sk-container-id-1 div.sk-serial::before {content: \"\";position: absolute;border-left: 1px solid gray;box-sizing: border-box;top: 0;bottom: 0;left: 50%;z-index: 0;}#sk-container-id-1 div.sk-serial {display: flex;flex-direction: column;align-items: center;background-color: white;padding-right: 0.2em;padding-left: 0.2em;position: relative;}#sk-container-id-1 div.sk-item {position: relative;z-index: 1;}#sk-container-id-1 div.sk-parallel {display: flex;align-items: stretch;justify-content: center;background-color: white;position: relative;}#sk-container-id-1 div.sk-item::before, #sk-container-id-1 div.sk-parallel-item::before {content: \"\";position: absolute;border-left: 1px solid gray;box-sizing: border-box;top: 0;bottom: 0;left: 50%;z-index: -1;}#sk-container-id-1 div.sk-parallel-item {display: flex;flex-direction: column;z-index: 1;position: relative;background-color: white;}#sk-container-id-1 div.sk-parallel-item:first-child::after {align-self: flex-end;width: 50%;}#sk-container-id-1 div.sk-parallel-item:last-child::after {align-self: flex-start;width: 50%;}#sk-container-id-1 div.sk-parallel-item:only-child::after {width: 0;}#sk-container-id-1 div.sk-dashed-wrapped {border: 1px dashed gray;margin: 0 0.4em 0.5em 0.4em;box-sizing: border-box;padding-bottom: 0.4em;background-color: white;}#sk-container-id-1 div.sk-label label {font-family: monospace;font-weight: bold;display: inline-block;line-height: 1.2em;}#sk-container-id-1 div.sk-label-container {text-align: center;}#sk-container-id-1 div.sk-container {/* jupyter's `normalize.less` sets `[hidden] { display: none; }` but bootstrap.min.css set `[hidden] { display: none !important; }` so we also need the `!important` here to be able to override the default hidden behavior on the sphinx rendered scikit-learn.org. See: https://github.com/scikit-learn/scikit-learn/issues/21755 */display: inline-block !important;position: relative;}#sk-container-id-1 div.sk-text-repr-fallback {display: none;}</style><div id=\"sk-container-id-1\" class=\"sk-top-container\"><div class=\"sk-text-repr-fallback\"><pre>GridSearchCV(cv=KFold(n_splits=5, random_state=100, shuffle=True),\n",
       "             estimator=Ridge(),\n",
       "             param_grid={&#x27;alpha&#x27;: [0.001, 0.01, 0.1, 1, 2, 10, 50, 100, 200,\n",
       "                                   300, 500, 1000]},\n",
       "             scoring=&#x27;r2&#x27;)</pre><b>In a Jupyter environment, please rerun this cell to show the HTML representation or trust the notebook. <br />On GitHub, the HTML representation is unable to render, please try loading this page with nbviewer.org.</b></div><div class=\"sk-container\" hidden><div class=\"sk-item sk-dashed-wrapped\"><div class=\"sk-label-container\"><div class=\"sk-label sk-toggleable\"><input class=\"sk-toggleable__control sk-hidden--visually\" id=\"sk-estimator-id-1\" type=\"checkbox\" ><label for=\"sk-estimator-id-1\" class=\"sk-toggleable__label sk-toggleable__label-arrow\">GridSearchCV</label><div class=\"sk-toggleable__content\"><pre>GridSearchCV(cv=KFold(n_splits=5, random_state=100, shuffle=True),\n",
       "             estimator=Ridge(),\n",
       "             param_grid={&#x27;alpha&#x27;: [0.001, 0.01, 0.1, 1, 2, 10, 50, 100, 200,\n",
       "                                   300, 500, 1000]},\n",
       "             scoring=&#x27;r2&#x27;)</pre></div></div></div><div class=\"sk-parallel\"><div class=\"sk-parallel-item\"><div class=\"sk-item\"><div class=\"sk-label-container\"><div class=\"sk-label sk-toggleable\"><input class=\"sk-toggleable__control sk-hidden--visually\" id=\"sk-estimator-id-2\" type=\"checkbox\" ><label for=\"sk-estimator-id-2\" class=\"sk-toggleable__label sk-toggleable__label-arrow\">estimator: Ridge</label><div class=\"sk-toggleable__content\"><pre>Ridge()</pre></div></div></div><div class=\"sk-serial\"><div class=\"sk-item\"><div class=\"sk-estimator sk-toggleable\"><input class=\"sk-toggleable__control sk-hidden--visually\" id=\"sk-estimator-id-3\" type=\"checkbox\" ><label for=\"sk-estimator-id-3\" class=\"sk-toggleable__label sk-toggleable__label-arrow\">Ridge</label><div class=\"sk-toggleable__content\"><pre>Ridge()</pre></div></div></div></div></div></div></div></div></div></div>"
      ],
      "text/plain": [
       "GridSearchCV(cv=KFold(n_splits=5, random_state=100, shuffle=True),\n",
       "             estimator=Ridge(),\n",
       "             param_grid={'alpha': [0.001, 0.01, 0.1, 1, 2, 10, 50, 100, 200,\n",
       "                                   300, 500, 1000]},\n",
       "             scoring='r2')"
      ]
     },
     "execution_count": 31,
     "metadata": {},
     "output_type": "execute_result"
    }
   ],
   "source": [
    "gridsearchcv = GridSearchCV(\n",
    "    estimator=ridge,\n",
    "    param_grid=param_grid_ridge,\n",
    "    scoring=scoring,\n",
    "    cv=kfold\n",
    ")\n",
    "\n",
    "gridsearchcv.fit(X_model_selection, y_model_selection)"
   ]
  },
  {
   "cell_type": "markdown",
   "id": "8580e1fa",
   "metadata": {
    "slideshow": {
     "slide_type": "slide"
    }
   },
   "source": [
    "The GridSearchCV has an **attribute** called **cv\\_results\\_** which we can access as follows:"
   ]
  },
  {
   "cell_type": "code",
   "execution_count": 32,
   "id": "25e704fe",
   "metadata": {
    "slideshow": {
     "slide_type": "slide"
    }
   },
   "outputs": [
    {
     "data": {
      "text/plain": [
       "{'mean_fit_time': array([0.15582571, 0.14989457, 0.14292774, 0.14263101, 0.14284177,\n",
       "        0.14254556, 0.1431922 , 0.14360399, 0.13390388, 0.11577826,\n",
       "        0.116432  , 0.11522942]),\n",
       " 'std_fit_time': array([0.01497278, 0.00600879, 0.0008751 , 0.00114884, 0.00114873,\n",
       "        0.00128813, 0.00107953, 0.00053108, 0.00631368, 0.00152791,\n",
       "        0.00450046, 0.003969  ]),\n",
       " 'mean_score_time': array([0.06139903, 0.05935588, 0.05917821, 0.05911279, 0.05916166,\n",
       "        0.05900617, 0.05933714, 0.05905247, 0.05071397, 0.03781343,\n",
       "        0.03677111, 0.03656259]),\n",
       " 'std_score_time': array([2.15591046e-03, 4.72080577e-04, 1.98474530e-04, 4.26310314e-04,\n",
       "        2.85021768e-04, 3.29021765e-04, 2.40210806e-04, 2.15446089e-04,\n",
       "        5.71745277e-03, 1.62892247e-03, 7.68207305e-05, 2.43568103e-04]),\n",
       " 'param_alpha': masked_array(data=[0.001, 0.01, 0.1, 1, 2, 10, 50, 100, 200, 300, 500,\n",
       "                    1000],\n",
       "              mask=[False, False, False, False, False, False, False, False,\n",
       "                    False, False, False, False],\n",
       "        fill_value='?',\n",
       "             dtype=object),\n",
       " 'params': [{'alpha': 0.001},\n",
       "  {'alpha': 0.01},\n",
       "  {'alpha': 0.1},\n",
       "  {'alpha': 1},\n",
       "  {'alpha': 2},\n",
       "  {'alpha': 10},\n",
       "  {'alpha': 50},\n",
       "  {'alpha': 100},\n",
       "  {'alpha': 200},\n",
       "  {'alpha': 300},\n",
       "  {'alpha': 500},\n",
       "  {'alpha': 1000}],\n",
       " 'split0_test_score': array([0.03695737, 0.03698276, 0.03723619, 0.039719  , 0.04237205,\n",
       "        0.06023771, 0.1034665 , 0.12047742, 0.12764015, 0.12657165,\n",
       "        0.12035387, 0.1049627 ]),\n",
       " 'split1_test_score': array([0.00834662, 0.00836867, 0.00858879, 0.01075173, 0.0130765 ,\n",
       "        0.02916634, 0.07388812, 0.09778627, 0.11585165, 0.12138644,\n",
       "        0.12193122, 0.11113725]),\n",
       " 'split2_test_score': array([-0.01776472, -0.01772721, -0.01735274, -0.01366737, -0.00969487,\n",
       "         0.01811207,  0.09776074,  0.14072702,  0.17130318,  0.17853857,\n",
       "         0.17486849,  0.15045608]),\n",
       " 'split3_test_score': array([0.05464836, 0.05466953, 0.05488076, 0.05695108, 0.05916508,\n",
       "        0.07410913, 0.10948776, 0.12007143, 0.11574984, 0.10499529,\n",
       "        0.08475314, 0.05269808]),\n",
       " 'split4_test_score': array([-0.11222842, -0.11218948, -0.11180068, -0.10797838, -0.10386684,\n",
       "        -0.0753635 ,  0.00271797,  0.04225342,  0.07095651,  0.08073488,\n",
       "         0.08628538,  0.08410605]),\n",
       " 'mean_test_score': array([-0.00600816, -0.00597914, -0.00568954, -0.00284479,  0.00021038,\n",
       "         0.02125235,  0.07746422,  0.10426311,  0.12030026,  0.12244537,\n",
       "         0.11763842,  0.10067203]),\n",
       " 'std_test_score': array([0.05857008, 0.05856364, 0.05849932, 0.05786586, 0.05718213,\n",
       "        0.05238476, 0.03927687, 0.03385136, 0.03203271, 0.03227651,\n",
       "        0.03275832, 0.03219414]),\n",
       " 'rank_test_score': array([12, 11, 10,  9,  8,  7,  6,  4,  2,  1,  3,  5], dtype=int32)}"
      ]
     },
     "execution_count": 32,
     "metadata": {},
     "output_type": "execute_result"
    }
   ],
   "source": [
    "gridsearchcv.cv_results_"
   ]
  },
  {
   "cell_type": "markdown",
   "id": "2072ab14",
   "metadata": {
    "slideshow": {
     "slide_type": "slide"
    }
   },
   "source": [
    "As you can see it is a dictionary with quite a lot of stuff, and somewhat difficult to read. However, it can be easily converted into a pandas dataframe for easier inspection: "
   ]
  },
  {
   "cell_type": "code",
   "execution_count": 33,
   "id": "d6464f54",
   "metadata": {
    "slideshow": {
     "slide_type": "slide"
    }
   },
   "outputs": [
    {
     "name": "stdout",
     "output_type": "stream",
     "text": [
      "Rows x Columns\n",
      "(12, 14)\n"
     ]
    },
    {
     "data": {
      "text/html": [
       "<div>\n",
       "<style scoped>\n",
       "    .dataframe tbody tr th:only-of-type {\n",
       "        vertical-align: middle;\n",
       "    }\n",
       "\n",
       "    .dataframe tbody tr th {\n",
       "        vertical-align: top;\n",
       "    }\n",
       "\n",
       "    .dataframe thead th {\n",
       "        text-align: right;\n",
       "    }\n",
       "</style>\n",
       "<table border=\"1\" class=\"dataframe\">\n",
       "  <thead>\n",
       "    <tr style=\"text-align: right;\">\n",
       "      <th></th>\n",
       "      <th>mean_fit_time</th>\n",
       "      <th>std_fit_time</th>\n",
       "      <th>mean_score_time</th>\n",
       "      <th>std_score_time</th>\n",
       "      <th>param_alpha</th>\n",
       "      <th>params</th>\n",
       "      <th>split0_test_score</th>\n",
       "      <th>split1_test_score</th>\n",
       "      <th>split2_test_score</th>\n",
       "      <th>split3_test_score</th>\n",
       "      <th>split4_test_score</th>\n",
       "      <th>mean_test_score</th>\n",
       "      <th>std_test_score</th>\n",
       "      <th>rank_test_score</th>\n",
       "    </tr>\n",
       "  </thead>\n",
       "  <tbody>\n",
       "    <tr>\n",
       "      <th>0</th>\n",
       "      <td>0.155826</td>\n",
       "      <td>0.014973</td>\n",
       "      <td>0.061399</td>\n",
       "      <td>0.002156</td>\n",
       "      <td>0.001</td>\n",
       "      <td>{'alpha': 0.001}</td>\n",
       "      <td>0.036957</td>\n",
       "      <td>0.008347</td>\n",
       "      <td>-0.017765</td>\n",
       "      <td>0.054648</td>\n",
       "      <td>-0.112228</td>\n",
       "      <td>-0.006008</td>\n",
       "      <td>0.058570</td>\n",
       "      <td>12</td>\n",
       "    </tr>\n",
       "    <tr>\n",
       "      <th>1</th>\n",
       "      <td>0.149895</td>\n",
       "      <td>0.006009</td>\n",
       "      <td>0.059356</td>\n",
       "      <td>0.000472</td>\n",
       "      <td>0.01</td>\n",
       "      <td>{'alpha': 0.01}</td>\n",
       "      <td>0.036983</td>\n",
       "      <td>0.008369</td>\n",
       "      <td>-0.017727</td>\n",
       "      <td>0.054670</td>\n",
       "      <td>-0.112189</td>\n",
       "      <td>-0.005979</td>\n",
       "      <td>0.058564</td>\n",
       "      <td>11</td>\n",
       "    </tr>\n",
       "    <tr>\n",
       "      <th>2</th>\n",
       "      <td>0.142928</td>\n",
       "      <td>0.000875</td>\n",
       "      <td>0.059178</td>\n",
       "      <td>0.000198</td>\n",
       "      <td>0.1</td>\n",
       "      <td>{'alpha': 0.1}</td>\n",
       "      <td>0.037236</td>\n",
       "      <td>0.008589</td>\n",
       "      <td>-0.017353</td>\n",
       "      <td>0.054881</td>\n",
       "      <td>-0.111801</td>\n",
       "      <td>-0.005690</td>\n",
       "      <td>0.058499</td>\n",
       "      <td>10</td>\n",
       "    </tr>\n",
       "    <tr>\n",
       "      <th>3</th>\n",
       "      <td>0.142631</td>\n",
       "      <td>0.001149</td>\n",
       "      <td>0.059113</td>\n",
       "      <td>0.000426</td>\n",
       "      <td>1</td>\n",
       "      <td>{'alpha': 1}</td>\n",
       "      <td>0.039719</td>\n",
       "      <td>0.010752</td>\n",
       "      <td>-0.013667</td>\n",
       "      <td>0.056951</td>\n",
       "      <td>-0.107978</td>\n",
       "      <td>-0.002845</td>\n",
       "      <td>0.057866</td>\n",
       "      <td>9</td>\n",
       "    </tr>\n",
       "    <tr>\n",
       "      <th>4</th>\n",
       "      <td>0.142842</td>\n",
       "      <td>0.001149</td>\n",
       "      <td>0.059162</td>\n",
       "      <td>0.000285</td>\n",
       "      <td>2</td>\n",
       "      <td>{'alpha': 2}</td>\n",
       "      <td>0.042372</td>\n",
       "      <td>0.013076</td>\n",
       "      <td>-0.009695</td>\n",
       "      <td>0.059165</td>\n",
       "      <td>-0.103867</td>\n",
       "      <td>0.000210</td>\n",
       "      <td>0.057182</td>\n",
       "      <td>8</td>\n",
       "    </tr>\n",
       "    <tr>\n",
       "      <th>5</th>\n",
       "      <td>0.142546</td>\n",
       "      <td>0.001288</td>\n",
       "      <td>0.059006</td>\n",
       "      <td>0.000329</td>\n",
       "      <td>10</td>\n",
       "      <td>{'alpha': 10}</td>\n",
       "      <td>0.060238</td>\n",
       "      <td>0.029166</td>\n",
       "      <td>0.018112</td>\n",
       "      <td>0.074109</td>\n",
       "      <td>-0.075364</td>\n",
       "      <td>0.021252</td>\n",
       "      <td>0.052385</td>\n",
       "      <td>7</td>\n",
       "    </tr>\n",
       "    <tr>\n",
       "      <th>6</th>\n",
       "      <td>0.143192</td>\n",
       "      <td>0.001080</td>\n",
       "      <td>0.059337</td>\n",
       "      <td>0.000240</td>\n",
       "      <td>50</td>\n",
       "      <td>{'alpha': 50}</td>\n",
       "      <td>0.103466</td>\n",
       "      <td>0.073888</td>\n",
       "      <td>0.097761</td>\n",
       "      <td>0.109488</td>\n",
       "      <td>0.002718</td>\n",
       "      <td>0.077464</td>\n",
       "      <td>0.039277</td>\n",
       "      <td>6</td>\n",
       "    </tr>\n",
       "    <tr>\n",
       "      <th>7</th>\n",
       "      <td>0.143604</td>\n",
       "      <td>0.000531</td>\n",
       "      <td>0.059052</td>\n",
       "      <td>0.000215</td>\n",
       "      <td>100</td>\n",
       "      <td>{'alpha': 100}</td>\n",
       "      <td>0.120477</td>\n",
       "      <td>0.097786</td>\n",
       "      <td>0.140727</td>\n",
       "      <td>0.120071</td>\n",
       "      <td>0.042253</td>\n",
       "      <td>0.104263</td>\n",
       "      <td>0.033851</td>\n",
       "      <td>4</td>\n",
       "    </tr>\n",
       "    <tr>\n",
       "      <th>8</th>\n",
       "      <td>0.133904</td>\n",
       "      <td>0.006314</td>\n",
       "      <td>0.050714</td>\n",
       "      <td>0.005717</td>\n",
       "      <td>200</td>\n",
       "      <td>{'alpha': 200}</td>\n",
       "      <td>0.127640</td>\n",
       "      <td>0.115852</td>\n",
       "      <td>0.171303</td>\n",
       "      <td>0.115750</td>\n",
       "      <td>0.070957</td>\n",
       "      <td>0.120300</td>\n",
       "      <td>0.032033</td>\n",
       "      <td>2</td>\n",
       "    </tr>\n",
       "    <tr>\n",
       "      <th>9</th>\n",
       "      <td>0.115778</td>\n",
       "      <td>0.001528</td>\n",
       "      <td>0.037813</td>\n",
       "      <td>0.001629</td>\n",
       "      <td>300</td>\n",
       "      <td>{'alpha': 300}</td>\n",
       "      <td>0.126572</td>\n",
       "      <td>0.121386</td>\n",
       "      <td>0.178539</td>\n",
       "      <td>0.104995</td>\n",
       "      <td>0.080735</td>\n",
       "      <td>0.122445</td>\n",
       "      <td>0.032277</td>\n",
       "      <td>1</td>\n",
       "    </tr>\n",
       "    <tr>\n",
       "      <th>10</th>\n",
       "      <td>0.116432</td>\n",
       "      <td>0.004500</td>\n",
       "      <td>0.036771</td>\n",
       "      <td>0.000077</td>\n",
       "      <td>500</td>\n",
       "      <td>{'alpha': 500}</td>\n",
       "      <td>0.120354</td>\n",
       "      <td>0.121931</td>\n",
       "      <td>0.174868</td>\n",
       "      <td>0.084753</td>\n",
       "      <td>0.086285</td>\n",
       "      <td>0.117638</td>\n",
       "      <td>0.032758</td>\n",
       "      <td>3</td>\n",
       "    </tr>\n",
       "    <tr>\n",
       "      <th>11</th>\n",
       "      <td>0.115229</td>\n",
       "      <td>0.003969</td>\n",
       "      <td>0.036563</td>\n",
       "      <td>0.000244</td>\n",
       "      <td>1000</td>\n",
       "      <td>{'alpha': 1000}</td>\n",
       "      <td>0.104963</td>\n",
       "      <td>0.111137</td>\n",
       "      <td>0.150456</td>\n",
       "      <td>0.052698</td>\n",
       "      <td>0.084106</td>\n",
       "      <td>0.100672</td>\n",
       "      <td>0.032194</td>\n",
       "      <td>5</td>\n",
       "    </tr>\n",
       "  </tbody>\n",
       "</table>\n",
       "</div>"
      ],
      "text/plain": [
       "    mean_fit_time  std_fit_time  mean_score_time  std_score_time param_alpha  \\\n",
       "0        0.155826      0.014973         0.061399        0.002156       0.001   \n",
       "1        0.149895      0.006009         0.059356        0.000472        0.01   \n",
       "2        0.142928      0.000875         0.059178        0.000198         0.1   \n",
       "3        0.142631      0.001149         0.059113        0.000426           1   \n",
       "4        0.142842      0.001149         0.059162        0.000285           2   \n",
       "5        0.142546      0.001288         0.059006        0.000329          10   \n",
       "6        0.143192      0.001080         0.059337        0.000240          50   \n",
       "7        0.143604      0.000531         0.059052        0.000215         100   \n",
       "8        0.133904      0.006314         0.050714        0.005717         200   \n",
       "9        0.115778      0.001528         0.037813        0.001629         300   \n",
       "10       0.116432      0.004500         0.036771        0.000077         500   \n",
       "11       0.115229      0.003969         0.036563        0.000244        1000   \n",
       "\n",
       "              params  split0_test_score  split1_test_score  split2_test_score  \\\n",
       "0   {'alpha': 0.001}           0.036957           0.008347          -0.017765   \n",
       "1    {'alpha': 0.01}           0.036983           0.008369          -0.017727   \n",
       "2     {'alpha': 0.1}           0.037236           0.008589          -0.017353   \n",
       "3       {'alpha': 1}           0.039719           0.010752          -0.013667   \n",
       "4       {'alpha': 2}           0.042372           0.013076          -0.009695   \n",
       "5      {'alpha': 10}           0.060238           0.029166           0.018112   \n",
       "6      {'alpha': 50}           0.103466           0.073888           0.097761   \n",
       "7     {'alpha': 100}           0.120477           0.097786           0.140727   \n",
       "8     {'alpha': 200}           0.127640           0.115852           0.171303   \n",
       "9     {'alpha': 300}           0.126572           0.121386           0.178539   \n",
       "10    {'alpha': 500}           0.120354           0.121931           0.174868   \n",
       "11   {'alpha': 1000}           0.104963           0.111137           0.150456   \n",
       "\n",
       "    split3_test_score  split4_test_score  mean_test_score  std_test_score  \\\n",
       "0            0.054648          -0.112228        -0.006008        0.058570   \n",
       "1            0.054670          -0.112189        -0.005979        0.058564   \n",
       "2            0.054881          -0.111801        -0.005690        0.058499   \n",
       "3            0.056951          -0.107978        -0.002845        0.057866   \n",
       "4            0.059165          -0.103867         0.000210        0.057182   \n",
       "5            0.074109          -0.075364         0.021252        0.052385   \n",
       "6            0.109488           0.002718         0.077464        0.039277   \n",
       "7            0.120071           0.042253         0.104263        0.033851   \n",
       "8            0.115750           0.070957         0.120300        0.032033   \n",
       "9            0.104995           0.080735         0.122445        0.032277   \n",
       "10           0.084753           0.086285         0.117638        0.032758   \n",
       "11           0.052698           0.084106         0.100672        0.032194   \n",
       "\n",
       "    rank_test_score  \n",
       "0                12  \n",
       "1                11  \n",
       "2                10  \n",
       "3                 9  \n",
       "4                 8  \n",
       "5                 7  \n",
       "6                 6  \n",
       "7                 4  \n",
       "8                 2  \n",
       "9                 1  \n",
       "10                3  \n",
       "11                5  "
      ]
     },
     "execution_count": 33,
     "metadata": {},
     "output_type": "execute_result"
    }
   ],
   "source": [
    "cv_results = pd.DataFrame(gridsearchcv.cv_results_)\n",
    "print(\"Rows x Columns\")\n",
    "print(cv_results.shape)\n",
    "cv_results"
   ]
  },
  {
   "cell_type": "markdown",
   "id": "b342e342",
   "metadata": {
    "slideshow": {
     "slide_type": "slide"
    }
   },
   "source": [
    "We can see results for each of our 12 model candidates (remember, we used 12 alpha values to define our grid). That is, each row represents the results for 1 model candidate (for which you can see the parameters in the **\"params\"** column). Perhaps most interesting are the **\"mean_test_score\"** and **\"std_test_score\"**, which show us mean accuracy and the standard deviation across the different train-test splits."
   ]
  },
  {
   "cell_type": "code",
   "execution_count": 34,
   "id": "6133a81a",
   "metadata": {
    "slideshow": {
     "slide_type": "slide"
    }
   },
   "outputs": [
    {
     "data": {
      "text/html": [
       "<div>\n",
       "<style scoped>\n",
       "    .dataframe tbody tr th:only-of-type {\n",
       "        vertical-align: middle;\n",
       "    }\n",
       "\n",
       "    .dataframe tbody tr th {\n",
       "        vertical-align: top;\n",
       "    }\n",
       "\n",
       "    .dataframe thead th {\n",
       "        text-align: right;\n",
       "    }\n",
       "</style>\n",
       "<table border=\"1\" class=\"dataframe\">\n",
       "  <thead>\n",
       "    <tr style=\"text-align: right;\">\n",
       "      <th></th>\n",
       "      <th>params</th>\n",
       "      <th>mean_test_score</th>\n",
       "      <th>std_test_score</th>\n",
       "    </tr>\n",
       "  </thead>\n",
       "  <tbody>\n",
       "    <tr>\n",
       "      <th>0</th>\n",
       "      <td>{'alpha': 0.001}</td>\n",
       "      <td>-0.006008</td>\n",
       "      <td>0.058570</td>\n",
       "    </tr>\n",
       "    <tr>\n",
       "      <th>1</th>\n",
       "      <td>{'alpha': 0.01}</td>\n",
       "      <td>-0.005979</td>\n",
       "      <td>0.058564</td>\n",
       "    </tr>\n",
       "    <tr>\n",
       "      <th>2</th>\n",
       "      <td>{'alpha': 0.1}</td>\n",
       "      <td>-0.005690</td>\n",
       "      <td>0.058499</td>\n",
       "    </tr>\n",
       "    <tr>\n",
       "      <th>3</th>\n",
       "      <td>{'alpha': 1}</td>\n",
       "      <td>-0.002845</td>\n",
       "      <td>0.057866</td>\n",
       "    </tr>\n",
       "    <tr>\n",
       "      <th>4</th>\n",
       "      <td>{'alpha': 2}</td>\n",
       "      <td>0.000210</td>\n",
       "      <td>0.057182</td>\n",
       "    </tr>\n",
       "    <tr>\n",
       "      <th>5</th>\n",
       "      <td>{'alpha': 10}</td>\n",
       "      <td>0.021252</td>\n",
       "      <td>0.052385</td>\n",
       "    </tr>\n",
       "    <tr>\n",
       "      <th>6</th>\n",
       "      <td>{'alpha': 50}</td>\n",
       "      <td>0.077464</td>\n",
       "      <td>0.039277</td>\n",
       "    </tr>\n",
       "    <tr>\n",
       "      <th>7</th>\n",
       "      <td>{'alpha': 100}</td>\n",
       "      <td>0.104263</td>\n",
       "      <td>0.033851</td>\n",
       "    </tr>\n",
       "    <tr>\n",
       "      <th>8</th>\n",
       "      <td>{'alpha': 200}</td>\n",
       "      <td>0.120300</td>\n",
       "      <td>0.032033</td>\n",
       "    </tr>\n",
       "    <tr>\n",
       "      <th>9</th>\n",
       "      <td>{'alpha': 300}</td>\n",
       "      <td>0.122445</td>\n",
       "      <td>0.032277</td>\n",
       "    </tr>\n",
       "    <tr>\n",
       "      <th>10</th>\n",
       "      <td>{'alpha': 500}</td>\n",
       "      <td>0.117638</td>\n",
       "      <td>0.032758</td>\n",
       "    </tr>\n",
       "    <tr>\n",
       "      <th>11</th>\n",
       "      <td>{'alpha': 1000}</td>\n",
       "      <td>0.100672</td>\n",
       "      <td>0.032194</td>\n",
       "    </tr>\n",
       "  </tbody>\n",
       "</table>\n",
       "</div>"
      ],
      "text/plain": [
       "              params  mean_test_score  std_test_score\n",
       "0   {'alpha': 0.001}        -0.006008        0.058570\n",
       "1    {'alpha': 0.01}        -0.005979        0.058564\n",
       "2     {'alpha': 0.1}        -0.005690        0.058499\n",
       "3       {'alpha': 1}        -0.002845        0.057866\n",
       "4       {'alpha': 2}         0.000210        0.057182\n",
       "5      {'alpha': 10}         0.021252        0.052385\n",
       "6      {'alpha': 50}         0.077464        0.039277\n",
       "7     {'alpha': 100}         0.104263        0.033851\n",
       "8     {'alpha': 200}         0.120300        0.032033\n",
       "9     {'alpha': 300}         0.122445        0.032277\n",
       "10    {'alpha': 500}         0.117638        0.032758\n",
       "11   {'alpha': 1000}         0.100672        0.032194"
      ]
     },
     "execution_count": 34,
     "metadata": {},
     "output_type": "execute_result"
    }
   ],
   "source": [
    "cv_results[[\"params\", \"mean_test_score\", \"std_test_score\"]]"
   ]
  },
  {
   "cell_type": "markdown",
   "id": "6e14ebc5",
   "metadata": {
    "slideshow": {
     "slide_type": "slide"
    }
   },
   "source": [
    "We could quickly plot the scoring metric against the alpha parameter to get a quick, more intuitive overview:"
   ]
  },
  {
   "cell_type": "code",
   "execution_count": 35,
   "id": "be7d801c",
   "metadata": {
    "slideshow": {
     "slide_type": "slide"
    }
   },
   "outputs": [
    {
     "data": {
      "text/plain": [
       "<AxesSubplot: xlabel='param_alpha'>"
      ]
     },
     "execution_count": 35,
     "metadata": {},
     "output_type": "execute_result"
    },
    {
     "data": {
      "image/png": "[encoded data removed]",
      "text/plain": [
       "<Figure size 640x480 with 1 Axes>"
      ]
     },
     "metadata": {},
     "output_type": "display_data"
    }
   ],
   "source": [
    "cv_results.plot.line(x=\"param_alpha\", y=[\"mean_test_score\", \"std_test_score\"])"
   ]
  },
  {
   "cell_type": "markdown",
   "id": "4f8b3913",
   "metadata": {
    "slideshow": {
     "slide_type": "slide"
    }
   },
   "source": [
    "Although it may be difficult to see the exact parameter at which **r-squared** is greatest, we can roughly see that a higher alpha increases performance up to an alpha between 200 and 300 and then decreases again (we know from the exact values in the table that alpha=300 gives use the best score, but in a larger, more fine-grained grid this may not be as easy to see).\n",
    "\n",
    "Conveniently, since the GridSearchCV had the **\"refit\"** parameter set to True (as default), it already selects the best scoring model and refits it on all of the data we gave it, so that we can now use it directly for further testing. We can check the best model and its parameters as follows:"
   ]
  },
  {
   "cell_type": "code",
   "execution_count": 47,
   "id": "04e3a312",
   "metadata": {
    "slideshow": {
     "slide_type": "slide"
    }
   },
   "outputs": [
    {
     "name": "stdout",
     "output_type": "stream",
     "text": [
      "8646\n",
      "[ 0.24205033 -0.22259238  0.37979203 ...  0.24599003  0.32461338\n",
      "  0.41464028]\n"
     ]
    },
    {
     "data": {
      "text/plain": [
       "<AxesSubplot: ylabel='Count'>"
      ]
     },
     "execution_count": 47,
     "metadata": {},
     "output_type": "execute_result"
    },
    {
     "data": {
      "image/png": "[encoded data removed]",
      "text/plain": [
       "<Figure size 640x480 with 1 Axes>"
      ]
     },
     "metadata": {},
     "output_type": "display_data"
    }
   ],
   "source": [
    "print(len(gridsearchcv.best_estimator_.coef_))\n",
    "print(gridsearchcv.best_estimator_.coef_)\n",
    "import seaborn as sns\n",
    "\n",
    "sns.histplot(gridsearchcv.best_estimator_.coef_)"
   ]
  },
  {
   "cell_type": "code",
   "execution_count": 37,
   "id": "6617fcc9",
   "metadata": {
    "slideshow": {
     "slide_type": "slide"
    }
   },
   "outputs": [
    {
     "data": {
      "text/plain": [
       "{'alpha': 300}"
      ]
     },
     "execution_count": 37,
     "metadata": {},
     "output_type": "execute_result"
    }
   ],
   "source": [
    "gridsearchcv.best_params_"
   ]
  },
  {
   "cell_type": "markdown",
   "id": "e025cd75",
   "metadata": {
    "slideshow": {
     "slide_type": "slide"
    }
   },
   "source": [
    "As expected, the model is a Ridge Regressor, but we can also see that the alpha value fitted for the best model corresponds to the alpha parameter for which we can see the highest score in the **cv_results** table. Let us now try to evaluate this best model on the final holdout set:"
   ]
  },
  {
   "cell_type": "code",
   "execution_count": 39,
   "id": "4a839d95",
   "metadata": {
    "slideshow": {
     "slide_type": "slide"
    }
   },
   "outputs": [
    {
     "data": {
      "text/plain": [
       "array([194.94114028, 202.31282146, 176.92902792, 183.14756928,\n",
       "       200.42792102, 196.33548229, 175.57033638, 189.05578468,\n",
       "       179.47128794, 167.85509388, 199.09809983, 188.56559012,\n",
       "       209.72468032, 146.2463747 , 223.89945755, 185.22568184,\n",
       "       172.58079251, 191.57977161, 203.53505866, 196.69183036,\n",
       "       231.3455506 , 216.94179367, 217.67254272, 187.29877301,\n",
       "       221.0523281 , 223.05741535, 228.01160362, 205.07222287,\n",
       "       194.84747869, 205.55744637, 219.59223476, 231.57186978,\n",
       "       217.55760144, 179.65053992, 202.54406683, 201.05473557,\n",
       "       238.38617503, 212.71505873, 214.20858626, 192.12582762,\n",
       "       192.1875684 , 176.15926422, 193.9450097 , 227.55453624,\n",
       "       199.26538175, 180.25587223, 192.22994065, 218.01310659,\n",
       "       179.63263958, 210.75392236, 216.58490348, 178.30874017,\n",
       "       186.79339352, 217.50403749, 212.055876  , 221.62173836,\n",
       "       180.5767349 , 201.70673605, 222.17246822, 201.28154034,\n",
       "       190.4738206 , 198.05508796, 205.97244545, 190.9037289 ,\n",
       "       233.34082047, 212.15891889, 200.35031476, 197.08995105,\n",
       "       187.93119086, 189.93825619, 205.5946931 , 204.12951184,\n",
       "       202.2862193 , 198.06454532, 211.48477015, 219.23451052,\n",
       "       194.84618414, 182.70572605, 197.51850043, 177.34032909,\n",
       "       208.90722386, 215.85992029, 166.03465268, 179.26998458,\n",
       "       207.48740582, 193.48066701, 223.33632515, 197.18445249,\n",
       "       187.31165331, 189.50262764, 172.4306751 , 211.67906309,\n",
       "       201.13353975, 212.86238928, 188.1998147 , 200.86988757,\n",
       "       197.8797644 , 189.79166753, 184.72833513, 234.46815482,\n",
       "       181.58712073, 209.66192213, 227.12968227, 216.93575087,\n",
       "       197.91753007, 190.01367948, 175.95468449, 200.65298318,\n",
       "       200.38587009, 221.28105638, 193.3896877 , 227.00591513,\n",
       "       172.56782176, 203.06699318, 191.74992634, 203.25283613,\n",
       "       222.60300853, 216.97180545, 224.94495154, 195.35231529,\n",
       "       190.44699846, 186.9513789 , 176.92024065, 196.37821727,\n",
       "       180.51302454, 209.87693897, 195.17241317, 209.8913874 ,\n",
       "       224.86376424, 198.11050584, 176.46198846, 221.60841203,\n",
       "       180.39464573, 198.14020688, 188.88410077, 196.03383336,\n",
       "       197.19094503, 214.83595324, 182.94192861, 199.2243911 ,\n",
       "       198.29681949, 198.65232287, 167.91949669, 163.45015167,\n",
       "       193.31382965, 174.91766524, 194.86759914, 204.21526532,\n",
       "       165.23378865, 219.82216495, 220.32206125, 211.63817091,\n",
       "       200.29568771, 167.64728365, 194.33850024, 213.74192233,\n",
       "       197.3820338 , 214.22338114, 239.74448109, 204.11498652,\n",
       "       188.26738475, 217.67022237, 198.86076626, 189.32196101,\n",
       "       204.73977407, 201.85348548, 216.85981402, 205.3446909 ,\n",
       "       231.65571176, 201.04356283, 204.27799291, 184.0161634 ,\n",
       "       182.27091309, 187.63891005, 208.02848939, 193.65344207,\n",
       "       191.97608208, 161.9114351 , 178.59884566, 191.51007117,\n",
       "       180.60554002, 193.72947161, 187.78484662, 190.45596662,\n",
       "       196.06877788, 213.71264338, 225.75332553, 172.36311714,\n",
       "       196.3629965 , 197.44430359, 189.58979148, 184.33715971,\n",
       "       196.21979715, 234.33124725, 214.41918909, 193.52809541,\n",
       "       208.41636643, 204.12781677, 211.87091999, 208.84672175,\n",
       "       198.93319176, 208.57572888, 190.53575386, 228.3547493 ,\n",
       "       216.70183951, 202.57580508, 207.56306088, 207.95966221,\n",
       "       178.93463704, 171.52124797, 192.93732385, 204.46618992,\n",
       "       197.1321722 , 224.72509902, 209.38806913, 181.21249893,\n",
       "       210.7326114 , 185.79813863, 201.86743854])"
      ]
     },
     "execution_count": 39,
     "metadata": {},
     "output_type": "execute_result"
    }
   ],
   "source": [
    "holdout_predictions_gscv = gridsearchcv.predict(X_holdout)\n",
    "holdout_predictions_gscv"
   ]
  },
  {
   "cell_type": "code",
   "execution_count": 40,
   "id": "81f9cb6b",
   "metadata": {
    "slideshow": {
     "slide_type": "slide"
    }
   },
   "outputs": [
    {
     "data": {
      "text/plain": [
       "0.12744537475411366"
      ]
     },
     "execution_count": 40,
     "metadata": {},
     "output_type": "execute_result"
    }
   ],
   "source": [
    "from sklearn.metrics import r2_score\n",
    "\n",
    "r2_score(y_holdout, holdout_predictions_gscv)"
   ]
  },
  {
   "cell_type": "markdown",
   "id": "28e698c0",
   "metadata": {
    "slideshow": {
     "slide_type": "slide"
    }
   },
   "source": [
    "Let us also quickly plot the predicted values versus the actual observed values in a scatter plot to see what our data looks like. Let us for this import seaborns regplot, which lends itself quite nicely to these types of plots:"
   ]
  },
  {
   "cell_type": "code",
   "execution_count": 41,
   "id": "6836816e",
   "metadata": {
    "slideshow": {
     "slide_type": "slide"
    }
   },
   "outputs": [
    {
     "data": {
      "text/plain": [
       "<AxesSubplot: xlabel='predicted', ylabel='observed'>"
      ]
     },
     "execution_count": 41,
     "metadata": {},
     "output_type": "execute_result"
    },
    {
     "data": {
      "image/png": "[encoded data removed]",
      "text/plain": [
       "<Figure size 640x480 with 1 Axes>"
      ]
     },
     "metadata": {},
     "output_type": "display_data"
    }
   ],
   "source": [
    "import seaborn as sns\n",
    "\n",
    "predictions_vs_observed = pd.DataFrame(\n",
    "    {\n",
    "        \"predicted\": holdout_predictions_gscv,\n",
    "        \"observed\": y_holdout\n",
    "    }\n",
    ")\n",
    "sns.regplot(data=predictions_vs_observed, x=\"predicted\", y=\"observed\")"
   ]
  },
  {
   "cell_type": "markdown",
   "id": "28e9dd0e",
   "metadata": {
    "slideshow": {
     "slide_type": "slide"
    }
   },
   "source": [
    "# Exercises\n",
    "\n",
    "1. Do a similar grid search for other model families of your choice. Can you search grids with multiple hyperparameters (rather than just the one alpha parameter that we used in the example)?\n"
   ]
  },
  {
   "cell_type": "markdown",
   "id": "7aa294d9",
   "metadata": {
    "slideshow": {
     "slide_type": "slide"
    }
   },
   "source": [
    "# Additional Reading or Resources\n",
    "\n",
    "* [The scikit-learn user guide has some good explanations on these topics in its user guide. For example you can look at computing cross-validated metrics](https://scikit-learn.org/stable/modules/cross_validation.html#computing-cross-validated-metrics)\n",
    "* [Tuning hyper-parameters using grid search](https://scikit-learn.org/stable/modules/grid_search.html)\n",
    "* [This article talks a bit more about train-test split evaluation](https://machinelearningmastery.com/train-test-split-for-evaluating-machine-learning-algorithms/)\n",
    "* The scikit-learn user guide has some explanations and demonstrations of the above mentioned models [here](https://scikit-learn.org/stable/supervised_learning.html) and it usually links to some relevant papers or books as well.\n",
    "It is well worth trying to read and understand as much as possible about the individual algorithms you are planning to use in your research.\n",
    "* [This is a nice video on ridge regression](https://www.youtube.com/watch?v=Q81RR3yKn30)\n",
    "* [A note on shuffling the samples for CV](https://scikit-learn.org/stable/modules/cross_validation.html#a-note-on-shuffling)"
   ]
  },
  {
   "cell_type": "markdown",
   "id": "0141e9bd",
   "metadata": {
    "slideshow": {
     "slide_type": "slide"
    }
   },
   "source": [
    "# Additional Resources\n",
    "\n",
    "![sam image](images/oos.png)\n",
    "\n",
    "[This is a nice video on object-oriented programming, sklearn API and how to make your own sklearn compatible objects](https://www.youtube.com/watch?v=WGirN6zBJ4s&list=PLvb39y5Ge21AgjJGC9ndwZ6OKktAh8lYh)"
   ]
  },
  {
   "cell_type": "markdown",
   "id": "cf5741ed",
   "metadata": {
    "slideshow": {
     "slide_type": "slide"
    }
   },
   "source": [
    "# Sklearn's pipeline\n",
    "\n",
    "Since we often want to apply preprocessing steps before fitting our models, and we want to do so in a cross-validation consistent way, so that we avoid data leakage and over-optimistic accuracy estimates. We need an easy way to chain different steps. The scikit-learn **pipeline** object provides just that.\n",
    "\n",
    "Let's imagine for example, that we want to make a pipeline in which we first perform a **principal component analysis (PCA)** to extract components, and then fit a **Support Vector Regression (SVR)** on only those extracted components. This may be quite complicated to implement in code especially if we also want to do some hyperparameter tuning in a cross-validated grid search, but combining the two steps in a pipeline makes it much more convenient.\n",
    "\n",
    "## Exercise\n",
    "\n",
    "Use the **pipeline** object to implement this pipeline. For the **PCA** tune the **n_components** hyperparameter. For the **SVR**, use an **RBF** kernel and tune the **C** and **gamma** hyperparameters. Can you also include a setting, where no PCA is performed?"
   ]
  },
  {
   "cell_type": "code",
   "execution_count": 48,
   "id": "0424d3c3",
   "metadata": {
    "slideshow": {
     "slide_type": "slide"
    }
   },
   "outputs": [],
   "source": [
    "from sklearn.pipeline import Pipeline\n",
    "?Pipeline"
   ]
  },
  {
   "cell_type": "markdown",
   "id": "58cb6928",
   "metadata": {
    "slideshow": {
     "slide_type": "slide"
    }
   },
   "source": [
    "The main parameter we care about is the **\"steps\"** parameter. As the name (and the description) suggests, it is a list of the steps that we want to apply in our pipeline. Each step consists of a tuple, that first indicates the name of the step, and then hands over the actual object associated with that step."
   ]
  },
  {
   "cell_type": "code",
   "execution_count": 51,
   "id": "e4cdcd95",
   "metadata": {
    "slideshow": {
     "slide_type": "slide"
    }
   },
   "outputs": [],
   "source": [
    "from sklearn.decomposition import PCA\n",
    "from sklearn.svm import SVR\n",
    "\n",
    "pipeline = Pipeline(\n",
    "    steps=[\n",
    "        (\"pca\", PCA()),\n",
    "        (\"svr\", SVR())]\n",
    ")"
   ]
  },
  {
   "cell_type": "markdown",
   "id": "17b683f0",
   "metadata": {
    "slideshow": {
     "slide_type": "slide"
    }
   },
   "source": [
    "Let's also check out the hyperparameters for the SVR:"
   ]
  },
  {
   "cell_type": "code",
   "execution_count": 52,
   "id": "adb19cc1",
   "metadata": {
    "slideshow": {
     "slide_type": "slide"
    }
   },
   "outputs": [],
   "source": [
    "?SVR"
   ]
  },
  {
   "cell_type": "markdown",
   "id": "63c8bcd0",
   "metadata": {
    "slideshow": {
     "slide_type": "slide"
    }
   },
   "source": [
    "There are a number of different kernels, degrees (for the polynomial kernel), gamma, and C values (you can see already, hyperparameter tuning can get increasingly difficult and complex the more models you start considering). Let us try an SVR with a **\"rbf\"** kernel and some different values for gamma and C. We also want to set a number of components to extract with the PCA. The way we define a grid in a pipeline is to **name the keys of the dictionary** using the **name of the step** and the **name of the parameter** separated by a **double underscore**:\n",
    "\n",
    "**nameofstep__nameofparameter**"
   ]
  },
  {
   "cell_type": "code",
   "execution_count": 53,
   "id": "2f00012c",
   "metadata": {
    "slideshow": {
     "slide_type": "slide"
    }
   },
   "outputs": [],
   "source": [
    "import numpy as np\n",
    "\n",
    "pca_svr_grid = {\n",
    "    \"pca__n_components\": [5, 50, 500],\n",
    "    \"svr__kernel\": [\"rbf\"],\n",
    "    \"svr__C\": np.linspace(0.0001, 1000, 5),\n",
    "    \"svr__gamma\": np.linspace(0.001, 1000, 5)\n",
    "}"
   ]
  },
  {
   "cell_type": "markdown",
   "id": "28e8a8d6",
   "metadata": {
    "slideshow": {
     "slide_type": "slide"
    }
   },
   "source": [
    "We also need to define an additional grid to perform the same pipeline without any PCA, as this will be an important setting to try as well:"
   ]
  },
  {
   "cell_type": "code",
   "execution_count": 56,
   "id": "bc7a14fe",
   "metadata": {
    "slideshow": {
     "slide_type": "slide"
    }
   },
   "outputs": [],
   "source": [
    "no_pca_svr_grid = {\n",
    "    \"pca\": [\"passthrough\"],\n",
    "    \"svr__kernel\": [\"rbf\"],\n",
    "    \"svr__C\": np.linspace(0.0001, 1000, 5),\n",
    "    \"svr__gamma\": np.linspace(0.001, 1000, 5)\n",
    "}"
   ]
  },
  {
   "cell_type": "markdown",
   "id": "726d359e",
   "metadata": {
    "slideshow": {
     "slide_type": "slide"
    }
   },
   "source": [
    "Check out the example below and you can see it is really quite simple (Running it will take quite some time):"
   ]
  },
  {
   "cell_type": "code",
   "execution_count": 57,
   "id": "5ea2a571",
   "metadata": {
    "scrolled": false,
    "slideshow": {
     "slide_type": "slide"
    }
   },
   "outputs": [
    {
     "name": "stdout",
     "output_type": "stream",
     "text": [
      "Rows x Columns\n",
      "(100, 18)\n"
     ]
    },
    {
     "data": {
      "text/html": [
       "<div>\n",
       "<style scoped>\n",
       "    .dataframe tbody tr th:only-of-type {\n",
       "        vertical-align: middle;\n",
       "    }\n",
       "\n",
       "    .dataframe tbody tr th {\n",
       "        vertical-align: top;\n",
       "    }\n",
       "\n",
       "    .dataframe thead th {\n",
       "        text-align: right;\n",
       "    }\n",
       "</style>\n",
       "<table border=\"1\" class=\"dataframe\">\n",
       "  <thead>\n",
       "    <tr style=\"text-align: right;\">\n",
       "      <th></th>\n",
       "      <th>mean_fit_time</th>\n",
       "      <th>std_fit_time</th>\n",
       "      <th>mean_score_time</th>\n",
       "      <th>std_score_time</th>\n",
       "      <th>param_pca__n_components</th>\n",
       "      <th>param_svr__C</th>\n",
       "      <th>param_svr__gamma</th>\n",
       "      <th>param_svr__kernel</th>\n",
       "      <th>param_pca</th>\n",
       "      <th>params</th>\n",
       "      <th>split0_test_score</th>\n",
       "      <th>split1_test_score</th>\n",
       "      <th>split2_test_score</th>\n",
       "      <th>split3_test_score</th>\n",
       "      <th>split4_test_score</th>\n",
       "      <th>mean_test_score</th>\n",
       "      <th>std_test_score</th>\n",
       "      <th>rank_test_score</th>\n",
       "    </tr>\n",
       "  </thead>\n",
       "  <tbody>\n",
       "    <tr>\n",
       "      <th>0</th>\n",
       "      <td>1.032618</td>\n",
       "      <td>0.018551</td>\n",
       "      <td>0.136758</td>\n",
       "      <td>0.007378</td>\n",
       "      <td>5</td>\n",
       "      <td>0.0001</td>\n",
       "      <td>0.001</td>\n",
       "      <td>rbf</td>\n",
       "      <td>NaN</td>\n",
       "      <td>{'pca__n_components': 5, 'svr__C': 0.0001, 'sv...</td>\n",
       "      <td>-0.007337</td>\n",
       "      <td>-0.000096</td>\n",
       "      <td>-0.065604</td>\n",
       "      <td>-0.023552</td>\n",
       "      <td>-0.011047</td>\n",
       "      <td>-0.021527</td>\n",
       "      <td>0.023312</td>\n",
       "      <td>82</td>\n",
       "    </tr>\n",
       "    <tr>\n",
       "      <th>1</th>\n",
       "      <td>1.020572</td>\n",
       "      <td>0.016185</td>\n",
       "      <td>0.120832</td>\n",
       "      <td>0.008103</td>\n",
       "      <td>5</td>\n",
       "      <td>0.0001</td>\n",
       "      <td>250.00075</td>\n",
       "      <td>rbf</td>\n",
       "      <td>NaN</td>\n",
       "      <td>{'pca__n_components': 5, 'svr__C': 0.0001, 'sv...</td>\n",
       "      <td>-0.007337</td>\n",
       "      <td>-0.000098</td>\n",
       "      <td>-0.065605</td>\n",
       "      <td>-0.023550</td>\n",
       "      <td>-0.011048</td>\n",
       "      <td>-0.021527</td>\n",
       "      <td>0.023313</td>\n",
       "      <td>83</td>\n",
       "    </tr>\n",
       "    <tr>\n",
       "      <th>2</th>\n",
       "      <td>0.963369</td>\n",
       "      <td>0.041447</td>\n",
       "      <td>0.116371</td>\n",
       "      <td>0.013057</td>\n",
       "      <td>5</td>\n",
       "      <td>0.0001</td>\n",
       "      <td>500.0005</td>\n",
       "      <td>rbf</td>\n",
       "      <td>NaN</td>\n",
       "      <td>{'pca__n_components': 5, 'svr__C': 0.0001, 'sv...</td>\n",
       "      <td>-0.007337</td>\n",
       "      <td>-0.000098</td>\n",
       "      <td>-0.065605</td>\n",
       "      <td>-0.023550</td>\n",
       "      <td>-0.011048</td>\n",
       "      <td>-0.021527</td>\n",
       "      <td>0.023313</td>\n",
       "      <td>83</td>\n",
       "    </tr>\n",
       "    <tr>\n",
       "      <th>3</th>\n",
       "      <td>1.011724</td>\n",
       "      <td>0.037002</td>\n",
       "      <td>0.133366</td>\n",
       "      <td>0.010327</td>\n",
       "      <td>5</td>\n",
       "      <td>0.0001</td>\n",
       "      <td>750.00025</td>\n",
       "      <td>rbf</td>\n",
       "      <td>NaN</td>\n",
       "      <td>{'pca__n_components': 5, 'svr__C': 0.0001, 'sv...</td>\n",
       "      <td>-0.007337</td>\n",
       "      <td>-0.000098</td>\n",
       "      <td>-0.065605</td>\n",
       "      <td>-0.023550</td>\n",
       "      <td>-0.011048</td>\n",
       "      <td>-0.021527</td>\n",
       "      <td>0.023313</td>\n",
       "      <td>83</td>\n",
       "    </tr>\n",
       "    <tr>\n",
       "      <th>4</th>\n",
       "      <td>1.039191</td>\n",
       "      <td>0.019005</td>\n",
       "      <td>0.148320</td>\n",
       "      <td>0.014735</td>\n",
       "      <td>5</td>\n",
       "      <td>0.0001</td>\n",
       "      <td>1000.0</td>\n",
       "      <td>rbf</td>\n",
       "      <td>NaN</td>\n",
       "      <td>{'pca__n_components': 5, 'svr__C': 0.0001, 'sv...</td>\n",
       "      <td>-0.007337</td>\n",
       "      <td>-0.000098</td>\n",
       "      <td>-0.065605</td>\n",
       "      <td>-0.023550</td>\n",
       "      <td>-0.011048</td>\n",
       "      <td>-0.021527</td>\n",
       "      <td>0.023313</td>\n",
       "      <td>83</td>\n",
       "    </tr>\n",
       "  </tbody>\n",
       "</table>\n",
       "</div>"
      ],
      "text/plain": [
       "   mean_fit_time  std_fit_time  mean_score_time  std_score_time  \\\n",
       "0       1.032618      0.018551         0.136758        0.007378   \n",
       "1       1.020572      0.016185         0.120832        0.008103   \n",
       "2       0.963369      0.041447         0.116371        0.013057   \n",
       "3       1.011724      0.037002         0.133366        0.010327   \n",
       "4       1.039191      0.019005         0.148320        0.014735   \n",
       "\n",
       "  param_pca__n_components param_svr__C param_svr__gamma param_svr__kernel  \\\n",
       "0                       5       0.0001            0.001               rbf   \n",
       "1                       5       0.0001        250.00075               rbf   \n",
       "2                       5       0.0001         500.0005               rbf   \n",
       "3                       5       0.0001        750.00025               rbf   \n",
       "4                       5       0.0001           1000.0               rbf   \n",
       "\n",
       "  param_pca                                             params  \\\n",
       "0       NaN  {'pca__n_components': 5, 'svr__C': 0.0001, 'sv...   \n",
       "1       NaN  {'pca__n_components': 5, 'svr__C': 0.0001, 'sv...   \n",
       "2       NaN  {'pca__n_components': 5, 'svr__C': 0.0001, 'sv...   \n",
       "3       NaN  {'pca__n_components': 5, 'svr__C': 0.0001, 'sv...   \n",
       "4       NaN  {'pca__n_components': 5, 'svr__C': 0.0001, 'sv...   \n",
       "\n",
       "   split0_test_score  split1_test_score  split2_test_score  split3_test_score  \\\n",
       "0          -0.007337          -0.000096          -0.065604          -0.023552   \n",
       "1          -0.007337          -0.000098          -0.065605          -0.023550   \n",
       "2          -0.007337          -0.000098          -0.065605          -0.023550   \n",
       "3          -0.007337          -0.000098          -0.065605          -0.023550   \n",
       "4          -0.007337          -0.000098          -0.065605          -0.023550   \n",
       "\n",
       "   split4_test_score  mean_test_score  std_test_score  rank_test_score  \n",
       "0          -0.011047        -0.021527        0.023312               82  \n",
       "1          -0.011048        -0.021527        0.023313               83  \n",
       "2          -0.011048        -0.021527        0.023313               83  \n",
       "3          -0.011048        -0.021527        0.023313               83  \n",
       "4          -0.011048        -0.021527        0.023313               83  "
      ]
     },
     "execution_count": 57,
     "metadata": {},
     "output_type": "execute_result"
    }
   ],
   "source": [
    "gridsearch_pipeline = GridSearchCV(\n",
    "    estimator=pipeline,\n",
    "    param_grid=[pca_svr_grid, no_pca_svr_grid],\n",
    "    cv=KFold(n_splits=5, shuffle=True, random_state=100),\n",
    "    scoring=\"r2\",\n",
    "    n_jobs=-1, # for speed up run on all cores\n",
    ")\n",
    "gridsearch_pipeline.fit(X_model_selection, y_model_selection)\n",
    "cv_results = pd.DataFrame(gridsearch_pipeline.cv_results_)\n",
    "print(\"Rows x Columns\")\n",
    "print(cv_results.shape)\n",
    "cv_results.head()"
   ]
  },
  {
   "cell_type": "markdown",
   "id": "72f66760",
   "metadata": {
    "slideshow": {
     "slide_type": "slide"
    }
   },
   "source": [
    "This results in quite a big table. We can quickly find the best row using the pandas **.query()** method:"
   ]
  },
  {
   "cell_type": "code",
   "execution_count": 58,
   "id": "e092335b",
   "metadata": {
    "slideshow": {
     "slide_type": "slide"
    }
   },
   "outputs": [
    {
     "data": {
      "text/html": [
       "<div>\n",
       "<style scoped>\n",
       "    .dataframe tbody tr th:only-of-type {\n",
       "        vertical-align: middle;\n",
       "    }\n",
       "\n",
       "    .dataframe tbody tr th {\n",
       "        vertical-align: top;\n",
       "    }\n",
       "\n",
       "    .dataframe thead th {\n",
       "        text-align: right;\n",
       "    }\n",
       "</style>\n",
       "<table border=\"1\" class=\"dataframe\">\n",
       "  <thead>\n",
       "    <tr style=\"text-align: right;\">\n",
       "      <th></th>\n",
       "      <th>mean_fit_time</th>\n",
       "      <th>std_fit_time</th>\n",
       "      <th>mean_score_time</th>\n",
       "      <th>std_score_time</th>\n",
       "      <th>param_pca__n_components</th>\n",
       "      <th>param_svr__C</th>\n",
       "      <th>param_svr__gamma</th>\n",
       "      <th>param_svr__kernel</th>\n",
       "      <th>param_pca</th>\n",
       "      <th>params</th>\n",
       "      <th>split0_test_score</th>\n",
       "      <th>split1_test_score</th>\n",
       "      <th>split2_test_score</th>\n",
       "      <th>split3_test_score</th>\n",
       "      <th>split4_test_score</th>\n",
       "      <th>mean_test_score</th>\n",
       "      <th>std_test_score</th>\n",
       "      <th>rank_test_score</th>\n",
       "    </tr>\n",
       "  </thead>\n",
       "  <tbody>\n",
       "    <tr>\n",
       "      <th>80</th>\n",
       "      <td>9.648304</td>\n",
       "      <td>0.199981</td>\n",
       "      <td>3.647215</td>\n",
       "      <td>0.224357</td>\n",
       "      <td>NaN</td>\n",
       "      <td>250.000075</td>\n",
       "      <td>0.001</td>\n",
       "      <td>rbf</td>\n",
       "      <td>passthrough</td>\n",
       "      <td>{'pca': 'passthrough', 'svr__C': 250.000075, '...</td>\n",
       "      <td>0.112152</td>\n",
       "      <td>0.079351</td>\n",
       "      <td>0.132417</td>\n",
       "      <td>0.103213</td>\n",
       "      <td>0.024335</td>\n",
       "      <td>0.090294</td>\n",
       "      <td>0.03712</td>\n",
       "      <td>1</td>\n",
       "    </tr>\n",
       "  </tbody>\n",
       "</table>\n",
       "</div>"
      ],
      "text/plain": [
       "    mean_fit_time  std_fit_time  mean_score_time  std_score_time  \\\n",
       "80       9.648304      0.199981         3.647215        0.224357   \n",
       "\n",
       "   param_pca__n_components param_svr__C param_svr__gamma param_svr__kernel  \\\n",
       "80                     NaN   250.000075            0.001               rbf   \n",
       "\n",
       "      param_pca                                             params  \\\n",
       "80  passthrough  {'pca': 'passthrough', 'svr__C': 250.000075, '...   \n",
       "\n",
       "    split0_test_score  split1_test_score  split2_test_score  \\\n",
       "80           0.112152           0.079351           0.132417   \n",
       "\n",
       "    split3_test_score  split4_test_score  mean_test_score  std_test_score  \\\n",
       "80           0.103213           0.024335         0.090294         0.03712   \n",
       "\n",
       "    rank_test_score  \n",
       "80                1  "
      ]
     },
     "execution_count": 58,
     "metadata": {},
     "output_type": "execute_result"
    }
   ],
   "source": [
    "cv_results.query(\"rank_test_score == 1\")"
   ]
  },
  {
   "cell_type": "markdown",
   "id": "df9a1b09",
   "metadata": {
    "slideshow": {
     "slide_type": "slide"
    }
   },
   "source": [
    "We can also think about visualising our hyperparameters using some heatmaps (we can make one heatmap for each n_components setting since we can plot the parameters gamma and C on a 2D grid):"
   ]
  },
  {
   "cell_type": "code",
   "execution_count": 59,
   "id": "a24898c2",
   "metadata": {
    "scrolled": false,
    "slideshow": {
     "slide_type": "slide"
    }
   },
   "outputs": [],
   "source": [
    "import matplotlib.pyplot as plt\n",
    "\n",
    "def plot_heatmaps(cv_results):\n",
    "    \n",
    "    cv_results_copy = cv_results.copy()\n",
    "    # rename the rows where no pca was performed\n",
    "    cv_results_copy[\"param_pca__n_components\"] = cv_results_copy[\"param_pca__n_components\"].replace(\n",
    "        {np.nan: \"no pca performed\"}\n",
    "    )\n",
    "\n",
    "    # prepare a figure\n",
    "    fig, axs = plt.subplots(ncols=2, nrows=2, figsize=(20, 16))\n",
    "    rows = [0, 0, 1, 1]\n",
    "    cols = [0, 1, 0, 1]\n",
    "    \n",
    "    # Loop over every PCA parameter to make one subplot for each PCA setting\n",
    "    for i, pca_n_comps in enumerate(cv_results_copy[\"param_pca__n_components\"].unique()):\n",
    "        row, col = rows[i], cols[i]\n",
    "        \n",
    "        # subset the data for this specific pca setting\n",
    "        mask = cv_results_copy[\"param_pca__n_components\"] == pca_n_comps\n",
    "        subsampled_results = cv_results_copy.loc[mask][[\"param_svr__C\", \"param_svr__gamma\", \"mean_test_score\"]]\n",
    "    \n",
    "        # we do this only because we want to annoying pandas warning about inferring\n",
    "        # numeric data type, we don't care about this being numeric in the plot, as\n",
    "        # it represents our xtick and ytick labels\n",
    "        indices = [\"param_svr__C\", \"param_svr__gamma\"]\n",
    "        subsampled_results[indices] = subsampled_results[indices].astype(str)\n",
    "    \n",
    "        # this will reshape the data from a \"long\" to a \"wide\" format so we can represent\n",
    "        # it in a heatmap with one parameter on the x axis and one parameter on the y axis\n",
    "        heatmap_array = subsampled_results.pivot(\n",
    "            index=\"param_svr__C\", columns=\"param_svr__gamma\", values=\"mean_test_score\"\n",
    "        ).round(decimals=4)\n",
    "    \n",
    "        # this actually makes the subplot\n",
    "        axs[row, col].set_title(f\"pca components used: {pca_n_comps}\")\n",
    "        sns.heatmap(\n",
    "            heatmap_array,\n",
    "            ax=axs[row, col],\n",
    "            cmap=\"coolwarm\",\n",
    "            vmin=cv_results[\"mean_test_score\"].min(),\n",
    "            vmax=cv_results[\"mean_test_score\"].max(),\n",
    "            annot=True\n",
    "        )"
   ]
  },
  {
   "cell_type": "code",
   "execution_count": 60,
   "id": "d21447f3",
   "metadata": {
    "slideshow": {
     "slide_type": "slide"
    }
   },
   "outputs": [
    {
     "data": {
      "image/png": "[encoded data removed]",
      "text/plain": [
       "<Figure size 2000x1600 with 8 Axes>"
      ]
     },
     "metadata": {},
     "output_type": "display_data"
    }
   ],
   "source": [
    "plot_heatmaps(cv_results)"
   ]
  },
  {
   "cell_type": "markdown",
   "id": "73d76b0d",
   "metadata": {
    "slideshow": {
     "slide_type": "slide"
    }
   },
   "source": [
    "Over time you may find that these types of visualisations can be quite helpful when searching over some hyperparameter grids. For example, here we can quickly see that performance is best when no PCA is used or when extracting a lot of components rather than only a few.\n",
    "\n",
    "These kinds of visualisations can also help identify problems with the grid. For example if we find that best performing hyperparameters tend to be towards the boundaries we may want to expand our search grid to include more candidate values. For example in this particular instance we may want to include larger C values to see if we hit a plateau or whether scores will further increase or decrease.\n",
    "\n",
    "**Importantly**, however, keep in mind that these scores above **are not** final evaluation scores. They merely serve to compare different model candidates, but will be over-optimistic as evaluation scores. **We have to still take the best model and evaluate it on some data that so far the model has not seen.** Let's do this using the GridSearchCV object, which again, has refit the best model on all the training data:"
   ]
  },
  {
   "cell_type": "code",
   "execution_count": 61,
   "id": "82218e2f",
   "metadata": {
    "scrolled": true,
    "slideshow": {
     "slide_type": "slide"
    }
   },
   "outputs": [
    {
     "data": {
      "text/html": [
       "<style>#sk-container-id-3 {color: black;background-color: white;}#sk-container-id-3 pre{padding: 0;}#sk-container-id-3 div.sk-toggleable {background-color: white;}#sk-container-id-3 label.sk-toggleable__label {cursor: pointer;display: block;width: 100%;margin-bottom: 0;padding: 0.3em;box-sizing: border-box;text-align: center;}#sk-container-id-3 label.sk-toggleable__label-arrow:before {content: \"▸\";float: left;margin-right: 0.25em;color: #696969;}#sk-container-id-3 label.sk-toggleable__label-arrow:hover:before {color: black;}#sk-container-id-3 div.sk-estimator:hover label.sk-toggleable__label-arrow:before {color: black;}#sk-container-id-3 div.sk-toggleable__content {max-height: 0;max-width: 0;overflow: hidden;text-align: left;background-color: #f0f8ff;}#sk-container-id-3 div.sk-toggleable__content pre {margin: 0.2em;color: black;border-radius: 0.25em;background-color: #f0f8ff;}#sk-container-id-3 input.sk-toggleable__control:checked~div.sk-toggleable__content {max-height: 200px;max-width: 100%;overflow: auto;}#sk-container-id-3 input.sk-toggleable__control:checked~label.sk-toggleable__label-arrow:before {content: \"▾\";}#sk-container-id-3 div.sk-estimator input.sk-toggleable__control:checked~label.sk-toggleable__label {background-color: #d4ebff;}#sk-container-id-3 div.sk-label input.sk-toggleable__control:checked~label.sk-toggleable__label {background-color: #d4ebff;}#sk-container-id-3 input.sk-hidden--visually {border: 0;clip: rect(1px 1px 1px 1px);clip: rect(1px, 1px, 1px, 1px);height: 1px;margin: -1px;overflow: hidden;padding: 0;position: absolute;width: 1px;}#sk-container-id-3 div.sk-estimator {font-family: monospace;background-color: #f0f8ff;border: 1px dotted black;border-radius: 0.25em;box-sizing: border-box;margin-bottom: 0.5em;}#sk-container-id-3 div.sk-estimator:hover {background-color: #d4ebff;}#sk-container-id-3 div.sk-parallel-item::after {content: \"\";width: 100%;border-bottom: 1px solid gray;flex-grow: 1;}#sk-container-id-3 div.sk-label:hover label.sk-toggleable__label {background-color: #d4ebff;}#sk-container-id-3 div.sk-serial::before {content: \"\";position: absolute;border-left: 1px solid gray;box-sizing: border-box;top: 0;bottom: 0;left: 50%;z-index: 0;}#sk-container-id-3 div.sk-serial {display: flex;flex-direction: column;align-items: center;background-color: white;padding-right: 0.2em;padding-left: 0.2em;position: relative;}#sk-container-id-3 div.sk-item {position: relative;z-index: 1;}#sk-container-id-3 div.sk-parallel {display: flex;align-items: stretch;justify-content: center;background-color: white;position: relative;}#sk-container-id-3 div.sk-item::before, #sk-container-id-3 div.sk-parallel-item::before {content: \"\";position: absolute;border-left: 1px solid gray;box-sizing: border-box;top: 0;bottom: 0;left: 50%;z-index: -1;}#sk-container-id-3 div.sk-parallel-item {display: flex;flex-direction: column;z-index: 1;position: relative;background-color: white;}#sk-container-id-3 div.sk-parallel-item:first-child::after {align-self: flex-end;width: 50%;}#sk-container-id-3 div.sk-parallel-item:last-child::after {align-self: flex-start;width: 50%;}#sk-container-id-3 div.sk-parallel-item:only-child::after {width: 0;}#sk-container-id-3 div.sk-dashed-wrapped {border: 1px dashed gray;margin: 0 0.4em 0.5em 0.4em;box-sizing: border-box;padding-bottom: 0.4em;background-color: white;}#sk-container-id-3 div.sk-label label {font-family: monospace;font-weight: bold;display: inline-block;line-height: 1.2em;}#sk-container-id-3 div.sk-label-container {text-align: center;}#sk-container-id-3 div.sk-container {/* jupyter's `normalize.less` sets `[hidden] { display: none; }` but bootstrap.min.css set `[hidden] { display: none !important; }` so we also need the `!important` here to be able to override the default hidden behavior on the sphinx rendered scikit-learn.org. See: https://github.com/scikit-learn/scikit-learn/issues/21755 */display: inline-block !important;position: relative;}#sk-container-id-3 div.sk-text-repr-fallback {display: none;}</style><div id=\"sk-container-id-3\" class=\"sk-top-container\"><div class=\"sk-text-repr-fallback\"><pre>Pipeline(steps=[(&#x27;pca&#x27;, &#x27;passthrough&#x27;),\n",
       "                (&#x27;svr&#x27;, SVR(C=250.000075, gamma=0.001))])</pre><b>In a Jupyter environment, please rerun this cell to show the HTML representation or trust the notebook. <br />On GitHub, the HTML representation is unable to render, please try loading this page with nbviewer.org.</b></div><div class=\"sk-container\" hidden><div class=\"sk-item sk-dashed-wrapped\"><div class=\"sk-label-container\"><div class=\"sk-label sk-toggleable\"><input class=\"sk-toggleable__control sk-hidden--visually\" id=\"sk-estimator-id-5\" type=\"checkbox\" ><label for=\"sk-estimator-id-5\" class=\"sk-toggleable__label sk-toggleable__label-arrow\">Pipeline</label><div class=\"sk-toggleable__content\"><pre>Pipeline(steps=[(&#x27;pca&#x27;, &#x27;passthrough&#x27;),\n",
       "                (&#x27;svr&#x27;, SVR(C=250.000075, gamma=0.001))])</pre></div></div></div><div class=\"sk-serial\"><div class=\"sk-item\"><div class=\"sk-estimator sk-toggleable\"><input class=\"sk-toggleable__control sk-hidden--visually\" id=\"sk-estimator-id-6\" type=\"checkbox\" ><label for=\"sk-estimator-id-6\" class=\"sk-toggleable__label sk-toggleable__label-arrow\">passthrough</label><div class=\"sk-toggleable__content\"><pre>passthrough</pre></div></div></div><div class=\"sk-item\"><div class=\"sk-estimator sk-toggleable\"><input class=\"sk-toggleable__control sk-hidden--visually\" id=\"sk-estimator-id-7\" type=\"checkbox\" ><label for=\"sk-estimator-id-7\" class=\"sk-toggleable__label sk-toggleable__label-arrow\">SVR</label><div class=\"sk-toggleable__content\"><pre>SVR(C=250.000075, gamma=0.001)</pre></div></div></div></div></div></div></div>"
      ],
      "text/plain": [
       "Pipeline(steps=[('pca', 'passthrough'),\n",
       "                ('svr', SVR(C=250.000075, gamma=0.001))])"
      ]
     },
     "execution_count": 61,
     "metadata": {},
     "output_type": "execute_result"
    }
   ],
   "source": [
    "gridsearch_pipeline.best_estimator_"
   ]
  },
  {
   "cell_type": "code",
   "execution_count": 62,
   "id": "83c2ac98",
   "metadata": {
    "scrolled": true,
    "slideshow": {
     "slide_type": "slide"
    }
   },
   "outputs": [
    {
     "data": {
      "text/plain": [
       "0.05631033227755711"
      ]
     },
     "execution_count": 62,
     "metadata": {},
     "output_type": "execute_result"
    }
   ],
   "source": [
    "holdout_predictions = gridsearch_pipeline.predict(X_holdout)\n",
    "pipeline_score = r2_score(y_holdout, holdout_predictions)\n",
    "pipeline_score"
   ]
  },
  {
   "cell_type": "markdown",
   "id": "ad334bed",
   "metadata": {
    "slideshow": {
     "slide_type": "slide"
    }
   },
   "source": [
    "Don't be surprised if the score has gone down a bit: This is precisely what is meant when we say that the estimated score during model selection is over-optimistic. If the score drops by a lot, however, this is a good sign that we overfit the model during model selection. Let's quickly plot those predictions again:"
   ]
  },
  {
   "cell_type": "code",
   "execution_count": 63,
   "id": "ecf8b053",
   "metadata": {
    "slideshow": {
     "slide_type": "slide"
    }
   },
   "outputs": [
    {
     "data": {
      "text/plain": [
       "<AxesSubplot: xlabel='predicted', ylabel='observed'>"
      ]
     },
     "execution_count": 63,
     "metadata": {},
     "output_type": "execute_result"
    },
    {
     "data": {
      "image/png": "[encoded data removed]",
      "text/plain": [
       "<Figure size 640x480 with 1 Axes>"
      ]
     },
     "metadata": {},
     "output_type": "display_data"
    }
   ],
   "source": [
    "predictions_vs_observed = pd.DataFrame(\n",
    "    {\n",
    "        \"predicted\": holdout_predictions,\n",
    "        \"observed\": y_holdout\n",
    "    }\n",
    ")\n",
    "sns.regplot(data=predictions_vs_observed, x=\"predicted\", y=\"observed\")"
   ]
  },
  {
   "cell_type": "markdown",
   "id": "8bdd881c",
   "metadata": {
    "slideshow": {
     "slide_type": "slide"
    }
   },
   "source": [
    "# Exercise:\n",
    "\n",
    "1. One very popular method of preprocessing where data leakage can happen quite easily is feature selection. Take one of the feature selection methods [in-built in scikit-learn](https://scikit-learn.org/stable/modules/classes.html#module-sklearn.feature_selection) and add it to a pipeline with a regressor of your choice. Can you do hyperparameter tuning for the feature selection process and the estimator simultaneously?\n",
    "Hint: check out the scikit-learn user guide to see [how you can use an F-test to select relevant features here](https://scikit-learn.org/stable/modules/feature_selection.html#univariate-feature-selection)."
   ]
  },
  {
   "cell_type": "markdown",
   "id": "c3d025da",
   "metadata": {
    "slideshow": {
     "slide_type": "slide"
    }
   },
   "source": [
    "# Bonus Material: How to perform a cross-validated grid search for both **model family** and **hyperparameters** simultaneously?"
   ]
  },
  {
   "cell_type": "markdown",
   "id": "c26ada44",
   "metadata": {
    "slideshow": {
     "slide_type": "slide"
    }
   },
   "source": [
    "Since we usually want to select the best model for a given problem from a set of **different model families** and their **associated hyperparameters**, you may now wonder how to do this with the GridSearchCV. We can see easily how it is done with one estimator, but it is not easy to see how to do this with a set of different estimators. This is another use case where the scikit-learn pipeline object can come in quite handy!\n",
    "\n",
    "We can initialise a pipeline with an estimator as a step, and then replace **this estimator** in the **pipeline** with **other type of estimators** using different parameter grids in our **GridSearchCV**, very similar to the way in which we tested the pipeline with and without PCA in the previous example:"
   ]
  },
  {
   "cell_type": "code",
   "execution_count": 64,
   "id": "86c08269",
   "metadata": {
    "slideshow": {
     "slide_type": "slide"
    }
   },
   "outputs": [],
   "source": [
    "# We only define one step, we care only about the regressor and its hyperparameters.\n",
    "# We arbitrarily initialise the pipeline with ridge:\n",
    "pipeline = Pipeline(steps=[(\"regressor\", Ridge())])\n",
    "\n",
    "# parameters for the ridge regressor\n",
    "ridge_params = {\n",
    "    \"regressor\": [Ridge()], # parameters have to be handed over as iterables!\n",
    "    \"regressor__alpha\": np.linspace(0.0001, 1000, 10),\n",
    "}\n",
    "\n",
    "# parameters for the support vector regressor:\n",
    "svr_params = {\n",
    "    \"regressor\": [SVR()],\n",
    "    \"regressor__C\": np.linspace(0.0001, 1000, 10),\n",
    "    \"regressor__kernel\": [\"linear\", \"rbf\"],\n",
    "}"
   ]
  },
  {
   "cell_type": "markdown",
   "id": "5c4ed6b2",
   "metadata": {
    "slideshow": {
     "slide_type": "slide"
    }
   },
   "source": [
    "After defining the estimators, the pipeline, and the parameter grids we can put it all together as follows and run the search. This may take a few minutes:"
   ]
  },
  {
   "cell_type": "code",
   "execution_count": 65,
   "id": "45dba3fd",
   "metadata": {
    "slideshow": {
     "slide_type": "slide"
    }
   },
   "outputs": [
    {
     "name": "stdout",
     "output_type": "stream",
     "text": [
      "Rows x Columns\n",
      "(30, 17)\n"
     ]
    },
    {
     "data": {
      "text/html": [
       "<div>\n",
       "<style scoped>\n",
       "    .dataframe tbody tr th:only-of-type {\n",
       "        vertical-align: middle;\n",
       "    }\n",
       "\n",
       "    .dataframe tbody tr th {\n",
       "        vertical-align: top;\n",
       "    }\n",
       "\n",
       "    .dataframe thead th {\n",
       "        text-align: right;\n",
       "    }\n",
       "</style>\n",
       "<table border=\"1\" class=\"dataframe\">\n",
       "  <thead>\n",
       "    <tr style=\"text-align: right;\">\n",
       "      <th></th>\n",
       "      <th>mean_fit_time</th>\n",
       "      <th>std_fit_time</th>\n",
       "      <th>mean_score_time</th>\n",
       "      <th>std_score_time</th>\n",
       "      <th>param_regressor</th>\n",
       "      <th>param_regressor__alpha</th>\n",
       "      <th>param_regressor__C</th>\n",
       "      <th>param_regressor__kernel</th>\n",
       "      <th>params</th>\n",
       "      <th>split0_test_score</th>\n",
       "      <th>split1_test_score</th>\n",
       "      <th>split2_test_score</th>\n",
       "      <th>split3_test_score</th>\n",
       "      <th>split4_test_score</th>\n",
       "      <th>mean_test_score</th>\n",
       "      <th>std_test_score</th>\n",
       "      <th>rank_test_score</th>\n",
       "    </tr>\n",
       "  </thead>\n",
       "  <tbody>\n",
       "    <tr>\n",
       "      <th>0</th>\n",
       "      <td>0.735974</td>\n",
       "      <td>0.097914</td>\n",
       "      <td>0.255913</td>\n",
       "      <td>0.037295</td>\n",
       "      <td>Ridge(alpha=333.3334)</td>\n",
       "      <td>0.0001</td>\n",
       "      <td>NaN</td>\n",
       "      <td>NaN</td>\n",
       "      <td>{'regressor': Ridge(alpha=333.3334), 'regresso...</td>\n",
       "      <td>0.036955</td>\n",
       "      <td>0.008344</td>\n",
       "      <td>-0.017768</td>\n",
       "      <td>0.054646</td>\n",
       "      <td>-0.112232</td>\n",
       "      <td>-0.006011</td>\n",
       "      <td>0.058571</td>\n",
       "      <td>28</td>\n",
       "    </tr>\n",
       "    <tr>\n",
       "      <th>1</th>\n",
       "      <td>0.895728</td>\n",
       "      <td>0.070281</td>\n",
       "      <td>0.133027</td>\n",
       "      <td>0.045072</td>\n",
       "      <td>Ridge(alpha=333.3334)</td>\n",
       "      <td>111.1112</td>\n",
       "      <td>NaN</td>\n",
       "      <td>NaN</td>\n",
       "      <td>{'regressor': Ridge(alpha=333.3334), 'regresso...</td>\n",
       "      <td>0.122294</td>\n",
       "      <td>0.101077</td>\n",
       "      <td>0.146536</td>\n",
       "      <td>0.120542</td>\n",
       "      <td>0.047520</td>\n",
       "      <td>0.107594</td>\n",
       "      <td>0.033321</td>\n",
       "      <td>7</td>\n",
       "    </tr>\n",
       "    <tr>\n",
       "      <th>2</th>\n",
       "      <td>0.755656</td>\n",
       "      <td>0.077257</td>\n",
       "      <td>0.106813</td>\n",
       "      <td>0.009591</td>\n",
       "      <td>Ridge(alpha=333.3334)</td>\n",
       "      <td>222.2223</td>\n",
       "      <td>NaN</td>\n",
       "      <td>NaN</td>\n",
       "      <td>{'regressor': Ridge(alpha=333.3334), 'regresso...</td>\n",
       "      <td>0.127723</td>\n",
       "      <td>0.117699</td>\n",
       "      <td>0.174037</td>\n",
       "      <td>0.113511</td>\n",
       "      <td>0.073996</td>\n",
       "      <td>0.121393</td>\n",
       "      <td>0.032043</td>\n",
       "      <td>2</td>\n",
       "    </tr>\n",
       "    <tr>\n",
       "      <th>3</th>\n",
       "      <td>0.586604</td>\n",
       "      <td>0.070775</td>\n",
       "      <td>0.156830</td>\n",
       "      <td>0.038411</td>\n",
       "      <td>Ridge(alpha=333.3334)</td>\n",
       "      <td>333.3334</td>\n",
       "      <td>NaN</td>\n",
       "      <td>NaN</td>\n",
       "      <td>{'regressor': Ridge(alpha=333.3334), 'regresso...</td>\n",
       "      <td>0.125706</td>\n",
       "      <td>0.122101</td>\n",
       "      <td>0.178937</td>\n",
       "      <td>0.101330</td>\n",
       "      <td>0.082458</td>\n",
       "      <td>0.122107</td>\n",
       "      <td>0.032392</td>\n",
       "      <td>1</td>\n",
       "    </tr>\n",
       "    <tr>\n",
       "      <th>4</th>\n",
       "      <td>0.617174</td>\n",
       "      <td>0.069140</td>\n",
       "      <td>0.151474</td>\n",
       "      <td>0.024708</td>\n",
       "      <td>Ridge(alpha=333.3334)</td>\n",
       "      <td>444.4445</td>\n",
       "      <td>NaN</td>\n",
       "      <td>NaN</td>\n",
       "      <td>{'regressor': Ridge(alpha=333.3334), 'regresso...</td>\n",
       "      <td>0.122221</td>\n",
       "      <td>0.122461</td>\n",
       "      <td>0.176938</td>\n",
       "      <td>0.089899</td>\n",
       "      <td>0.085606</td>\n",
       "      <td>0.119425</td>\n",
       "      <td>0.032681</td>\n",
       "      <td>3</td>\n",
       "    </tr>\n",
       "  </tbody>\n",
       "</table>\n",
       "</div>"
      ],
      "text/plain": [
       "   mean_fit_time  std_fit_time  mean_score_time  std_score_time  \\\n",
       "0       0.735974      0.097914         0.255913        0.037295   \n",
       "1       0.895728      0.070281         0.133027        0.045072   \n",
       "2       0.755656      0.077257         0.106813        0.009591   \n",
       "3       0.586604      0.070775         0.156830        0.038411   \n",
       "4       0.617174      0.069140         0.151474        0.024708   \n",
       "\n",
       "         param_regressor param_regressor__alpha param_regressor__C  \\\n",
       "0  Ridge(alpha=333.3334)                 0.0001                NaN   \n",
       "1  Ridge(alpha=333.3334)               111.1112                NaN   \n",
       "2  Ridge(alpha=333.3334)               222.2223                NaN   \n",
       "3  Ridge(alpha=333.3334)               333.3334                NaN   \n",
       "4  Ridge(alpha=333.3334)               444.4445                NaN   \n",
       "\n",
       "  param_regressor__kernel                                             params  \\\n",
       "0                     NaN  {'regressor': Ridge(alpha=333.3334), 'regresso...   \n",
       "1                     NaN  {'regressor': Ridge(alpha=333.3334), 'regresso...   \n",
       "2                     NaN  {'regressor': Ridge(alpha=333.3334), 'regresso...   \n",
       "3                     NaN  {'regressor': Ridge(alpha=333.3334), 'regresso...   \n",
       "4                     NaN  {'regressor': Ridge(alpha=333.3334), 'regresso...   \n",
       "\n",
       "   split0_test_score  split1_test_score  split2_test_score  split3_test_score  \\\n",
       "0           0.036955           0.008344          -0.017768           0.054646   \n",
       "1           0.122294           0.101077           0.146536           0.120542   \n",
       "2           0.127723           0.117699           0.174037           0.113511   \n",
       "3           0.125706           0.122101           0.178937           0.101330   \n",
       "4           0.122221           0.122461           0.176938           0.089899   \n",
       "\n",
       "   split4_test_score  mean_test_score  std_test_score  rank_test_score  \n",
       "0          -0.112232        -0.006011        0.058571               28  \n",
       "1           0.047520         0.107594        0.033321                7  \n",
       "2           0.073996         0.121393        0.032043                2  \n",
       "3           0.082458         0.122107        0.032392                1  \n",
       "4           0.085606         0.119425        0.032681                3  "
      ]
     },
     "execution_count": 65,
     "metadata": {},
     "output_type": "execute_result"
    }
   ],
   "source": [
    "gridsearch_cv = GridSearchCV(\n",
    "    estimator=pipeline,\n",
    "    param_grid=[ridge_params, svr_params],\n",
    "    scoring=\"r2\",\n",
    "    cv=kfold,\n",
    "    n_jobs=-1 # to speed up computation, '-1' means it will use all available CPU's\n",
    ")\n",
    "gridsearch_cv.fit(X_model_selection, y_model_selection)\n",
    "cv_results = pd.DataFrame(gridsearch_cv.cv_results_)\n",
    "print(\"Rows x Columns\")\n",
    "print(cv_results.shape)\n",
    "cv_results.head()"
   ]
  },
  {
   "cell_type": "markdown",
   "id": "06c5ec0e",
   "metadata": {
    "slideshow": {
     "slide_type": "slide"
    }
   },
   "source": [
    "Let's evaluate again the best model on the holdout data:"
   ]
  },
  {
   "cell_type": "code",
   "execution_count": 66,
   "id": "36ae71be",
   "metadata": {
    "slideshow": {
     "slide_type": "slide"
    }
   },
   "outputs": [
    {
     "data": {
      "text/html": [
       "<style>#sk-container-id-4 {color: black;background-color: white;}#sk-container-id-4 pre{padding: 0;}#sk-container-id-4 div.sk-toggleable {background-color: white;}#sk-container-id-4 label.sk-toggleable__label {cursor: pointer;display: block;width: 100%;margin-bottom: 0;padding: 0.3em;box-sizing: border-box;text-align: center;}#sk-container-id-4 label.sk-toggleable__label-arrow:before {content: \"▸\";float: left;margin-right: 0.25em;color: #696969;}#sk-container-id-4 label.sk-toggleable__label-arrow:hover:before {color: black;}#sk-container-id-4 div.sk-estimator:hover label.sk-toggleable__label-arrow:before {color: black;}#sk-container-id-4 div.sk-toggleable__content {max-height: 0;max-width: 0;overflow: hidden;text-align: left;background-color: #f0f8ff;}#sk-container-id-4 div.sk-toggleable__content pre {margin: 0.2em;color: black;border-radius: 0.25em;background-color: #f0f8ff;}#sk-container-id-4 input.sk-toggleable__control:checked~div.sk-toggleable__content {max-height: 200px;max-width: 100%;overflow: auto;}#sk-container-id-4 input.sk-toggleable__control:checked~label.sk-toggleable__label-arrow:before {content: \"▾\";}#sk-container-id-4 div.sk-estimator input.sk-toggleable__control:checked~label.sk-toggleable__label {background-color: #d4ebff;}#sk-container-id-4 div.sk-label input.sk-toggleable__control:checked~label.sk-toggleable__label {background-color: #d4ebff;}#sk-container-id-4 input.sk-hidden--visually {border: 0;clip: rect(1px 1px 1px 1px);clip: rect(1px, 1px, 1px, 1px);height: 1px;margin: -1px;overflow: hidden;padding: 0;position: absolute;width: 1px;}#sk-container-id-4 div.sk-estimator {font-family: monospace;background-color: #f0f8ff;border: 1px dotted black;border-radius: 0.25em;box-sizing: border-box;margin-bottom: 0.5em;}#sk-container-id-4 div.sk-estimator:hover {background-color: #d4ebff;}#sk-container-id-4 div.sk-parallel-item::after {content: \"\";width: 100%;border-bottom: 1px solid gray;flex-grow: 1;}#sk-container-id-4 div.sk-label:hover label.sk-toggleable__label {background-color: #d4ebff;}#sk-container-id-4 div.sk-serial::before {content: \"\";position: absolute;border-left: 1px solid gray;box-sizing: border-box;top: 0;bottom: 0;left: 50%;z-index: 0;}#sk-container-id-4 div.sk-serial {display: flex;flex-direction: column;align-items: center;background-color: white;padding-right: 0.2em;padding-left: 0.2em;position: relative;}#sk-container-id-4 div.sk-item {position: relative;z-index: 1;}#sk-container-id-4 div.sk-parallel {display: flex;align-items: stretch;justify-content: center;background-color: white;position: relative;}#sk-container-id-4 div.sk-item::before, #sk-container-id-4 div.sk-parallel-item::before {content: \"\";position: absolute;border-left: 1px solid gray;box-sizing: border-box;top: 0;bottom: 0;left: 50%;z-index: -1;}#sk-container-id-4 div.sk-parallel-item {display: flex;flex-direction: column;z-index: 1;position: relative;background-color: white;}#sk-container-id-4 div.sk-parallel-item:first-child::after {align-self: flex-end;width: 50%;}#sk-container-id-4 div.sk-parallel-item:last-child::after {align-self: flex-start;width: 50%;}#sk-container-id-4 div.sk-parallel-item:only-child::after {width: 0;}#sk-container-id-4 div.sk-dashed-wrapped {border: 1px dashed gray;margin: 0 0.4em 0.5em 0.4em;box-sizing: border-box;padding-bottom: 0.4em;background-color: white;}#sk-container-id-4 div.sk-label label {font-family: monospace;font-weight: bold;display: inline-block;line-height: 1.2em;}#sk-container-id-4 div.sk-label-container {text-align: center;}#sk-container-id-4 div.sk-container {/* jupyter's `normalize.less` sets `[hidden] { display: none; }` but bootstrap.min.css set `[hidden] { display: none !important; }` so we also need the `!important` here to be able to override the default hidden behavior on the sphinx rendered scikit-learn.org. See: https://github.com/scikit-learn/scikit-learn/issues/21755 */display: inline-block !important;position: relative;}#sk-container-id-4 div.sk-text-repr-fallback {display: none;}</style><div id=\"sk-container-id-4\" class=\"sk-top-container\"><div class=\"sk-text-repr-fallback\"><pre>Pipeline(steps=[(&#x27;regressor&#x27;, Ridge(alpha=333.3334))])</pre><b>In a Jupyter environment, please rerun this cell to show the HTML representation or trust the notebook. <br />On GitHub, the HTML representation is unable to render, please try loading this page with nbviewer.org.</b></div><div class=\"sk-container\" hidden><div class=\"sk-item sk-dashed-wrapped\"><div class=\"sk-label-container\"><div class=\"sk-label sk-toggleable\"><input class=\"sk-toggleable__control sk-hidden--visually\" id=\"sk-estimator-id-8\" type=\"checkbox\" ><label for=\"sk-estimator-id-8\" class=\"sk-toggleable__label sk-toggleable__label-arrow\">Pipeline</label><div class=\"sk-toggleable__content\"><pre>Pipeline(steps=[(&#x27;regressor&#x27;, Ridge(alpha=333.3334))])</pre></div></div></div><div class=\"sk-serial\"><div class=\"sk-item\"><div class=\"sk-estimator sk-toggleable\"><input class=\"sk-toggleable__control sk-hidden--visually\" id=\"sk-estimator-id-9\" type=\"checkbox\" ><label for=\"sk-estimator-id-9\" class=\"sk-toggleable__label sk-toggleable__label-arrow\">Ridge</label><div class=\"sk-toggleable__content\"><pre>Ridge(alpha=333.3334)</pre></div></div></div></div></div></div></div>"
      ],
      "text/plain": [
       "Pipeline(steps=[('regressor', Ridge(alpha=333.3334))])"
      ]
     },
     "execution_count": 66,
     "metadata": {},
     "output_type": "execute_result"
    }
   ],
   "source": [
    "gridsearch_cv.best_estimator_"
   ]
  },
  {
   "cell_type": "code",
   "execution_count": 67,
   "id": "90f72876",
   "metadata": {
    "slideshow": {
     "slide_type": "slide"
    }
   },
   "outputs": [
    {
     "data": {
      "text/plain": [
       "0.13107623232087606"
      ]
     },
     "execution_count": 67,
     "metadata": {},
     "output_type": "execute_result"
    }
   ],
   "source": [
    "gscv_predictions = gridsearch_cv.predict(X_holdout)\n",
    "r2_score(y_holdout, gscv_predictions)"
   ]
  },
  {
   "cell_type": "code",
   "execution_count": 68,
   "id": "0ee7f493",
   "metadata": {
    "slideshow": {
     "slide_type": "slide"
    }
   },
   "outputs": [
    {
     "data": {
      "text/plain": [
       "<AxesSubplot: xlabel='predicted', ylabel='observed'>"
      ]
     },
     "execution_count": 68,
     "metadata": {},
     "output_type": "execute_result"
    },
    {
     "data": {
      "image/png": "[encoded data removed]",
      "text/plain": [
       "<Figure size 640x480 with 1 Axes>"
      ]
     },
     "metadata": {},
     "output_type": "display_data"
    }
   ],
   "source": [
    "predictions_vs_observed = pd.DataFrame(\n",
    "    {\n",
    "        \"predicted\": gscv_predictions,\n",
    "        \"observed\": y_holdout\n",
    "    }\n",
    ")\n",
    "sns.regplot(data=predictions_vs_observed, x=\"predicted\", y=\"observed\")"
   ]
  }
 ],
 "metadata": {
  "celltoolbar": "Slideshow",
  "kernelspec": {
   "display_name": "Python 3 (ipykernel)",
   "language": "python",
   "name": "python3"
  },
  "language_info": {
   "codemirror_mode": {
    "name": "ipython",
    "version": 3
   },
   "file_extension": ".py",
   "mimetype": "text/x-python",
   "name": "python",
   "nbconvert_exporter": "python",
   "pygments_lexer": "ipython3",
   "version": "3.10.9"
  },
  "vscode": {
   "interpreter": {
    "hash": "fc3b3c115f4411572977c7ef81a986974e91e5e03325ec386353451c9b2fc755"
   }
  }
 },
 "nbformat": 4,
 "nbformat_minor": 5
}
